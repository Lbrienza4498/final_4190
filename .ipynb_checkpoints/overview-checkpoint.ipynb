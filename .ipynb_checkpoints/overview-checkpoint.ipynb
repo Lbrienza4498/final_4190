{
 "cells": [
  {
   "cell_type": "markdown",
   "id": "e3ce1eac-0bb0-411d-b099-badc3bffdd35",
   "metadata": {},
   "source": [
    "# PathPilot: AI-Powered Public Relations for Transportation Services\n",
    "\n",
    "## Project Overview\n",
    "Our goal with PathPilot is to develop an AI-powered public relations tool to help transportation services like Amtrak, NJ Transit, Septa, and MTA effectively communicate with riders during service disruptions, delays, emergencies, or unsafe situations. Our main priority is to provide timely, accurate information to riders through multiple channels, reducing dissatisfaction and confusion since platforms like Amtrak barely disseminate information on a macro-scale during real-time. \n",
    "\n",
    "## Key Features\n",
    "1. **Rapid Response**: Our AI system can quickly generate and disseminate messages to riders, ensuring they receive critical information as soon as possible.\n",
    "2. **Multi-Channel Communication**: The tool will create messages tailored for various platforms, including website statements, tweets/text messages, and station screen blasts.\n",
    "3. **Personalized Assistance**: A chatbot will provide riders with specific alternative route guidance and emotional support during disruptions.\n",
    "4. **Data-Driven**: By feeding AI with relevant information from the internet and crowd-sourced data, it can provide optimized alternative routes and real-time updates.\n",
    "\n",
    "## User Scenarios\n",
    "1. **General Communication**: When a disruption occurs, the AI system quickly generates a blast message with essential details (situation, urgency (yes/no), time, location, alternative routes, support, safety precautions, and compensation) for display on station screens, the transportation service's app or email chain, and social media, in the form of a tweet, and/or a text message.\n",
    "2. **ChatBot Assistance**: Riders can further interact with the chatbot for personalized alternative route suggestions, emotional support, and real-time updates on the situation.\n",
    "\n",
    "## Detailed Examples\n",
    "### Scenario 1: Amtrak Service Disruption\n",
    "- **Situation**: Someone died at the Trenton Station, causing it to close, on the Amtrak from Philadelphia to New York Penn Station.\n",
    "- **Urgent**: Yes\n",
    "- **Current Time**: 4:06 pm\n",
    "- **Location**: Trenton Station\n",
    "- **Alternative Routes**: NJ transit real NEC 3896 towards New York Penn Station\n",
    "- **Support**: Call 222-333-4444 or use chat bot\n",
    "- **Safety Precautions**: Avoid this line, avoid pushing or shoving near this line\n",
    "- **Compensation**: All tickets will be refunded\n",
    "\n",
    "The AI system would generate a website statement, tweet, and blast message based on these details, ensuring riders are informed and supported during the disruption.\n",
    "\n",
    "### Scenario 2: ChatBot Interaction\n",
    "A rider in SoHo is trying to get to JFK International Airport, but the C and E subway lines are down. They can ask the chatbot for an alternative route using public transportation (no Uber). The chatbot will provide specific, step-by-step instructions to help the rider reach their destination, such as...\n",
    "\n",
    "I understand your predicament. Here's an alternative route using public transportation to get from Soho to JFK International Airport:\n",
    "\n",
    "1. Walk to the Broadway-Lafayette St station, which is served by the B, D, F, and M trains.\n",
    "2. Take either the B or D train uptown to the 47-50 Sts-Rockefeller Center station.\n",
    "3. Transfer to the E train (which is running, despite the C being down) at the same station.\n",
    "4. Take the E train towards Jamaica Center-Parsons/Archer.\n",
    "5. Get off at the Sutphin Blvd-Archer Av-JFK Airport station.\n",
    "6. Follow the signs for the AirTrain JFK, which is a separate fare from the subway. You can purchase a MetroCard from the machines if you don't already have one.\n",
    "7. Take the AirTrain JFK to your specific terminal at JFK International Airport.\n",
    "\n",
    "## Implementation\n",
    "- Possibly Use Claude-3-Opus AI model through Anthropic's jupyterhub or Ollama for LangChain purposes and communication generation\n",
    "- Develop prompt templates for website statements, tweets, and blast messages\n",
    "- Create sub-chains for each message type and a master chain to generate all messages\n",
    "- Implement a chatbot that can store and reiterate incident details, provide alternative routes, and offer emotional support\n",
    "\n",
    "## Next Steps\n",
    "1. Refine the AI prompts and train the model on a diverse set of transportation disruption scenarios\n",
    "2. Possibly Integrate real-time data sources (e.g., Google Maps, transportation service APIs) for accurate alternative route suggestions\n",
    "3. Develop a user-friendly interface for transportation service staff to input incident details and manage communications"
   ]
  },
  {
   "cell_type": "code",
   "execution_count": null,
   "id": "e564e5e1-0d60-43b3-85a4-65177cc288be",
   "metadata": {},
   "outputs": [],
   "source": []
  }
 ],
 "metadata": {
  "citation-manager": {
   "items": {}
  },
  "kernelspec": {
   "display_name": "Python 3.11 (COMM4190)",
   "language": "python",
   "name": "comm4190"
  },
  "language_info": {
   "codemirror_mode": {
    "name": "ipython",
    "version": 3
   },
   "file_extension": ".py",
   "mimetype": "text/x-python",
   "name": "python",
   "nbconvert_exporter": "python",
   "pygments_lexer": "ipython3",
   "version": "3.11.7"
  }
 },
 "nbformat": 4,
 "nbformat_minor": 5
}
