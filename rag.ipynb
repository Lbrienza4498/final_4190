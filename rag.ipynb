{
 "cells": [
  {
   "cell_type": "markdown",
   "id": "a84f7f3d-77df-401d-98ce-706716f2a21e",
   "metadata": {},
   "source": [
    "# Planning"
   ]
  },
  {
   "cell_type": "markdown",
   "id": "0c53dbdb-09bf-458c-8da8-691b66011c2f",
   "metadata": {},
   "source": [
    "## Usage 1: Giving directions\n",
    "```mermaid\n",
    "sequenceDiagram\n",
    "    user-->chatbot: Help! My train broke down! What are some alternative ways I can get from Washington D.C. to Philadelphia?\n",
    "    chatbot-->>user: Alternative Route 1: Amtrak trains from Washington Union Station to Philadelphia 30th Street Alternative Route 2: MARC Train Service (Washington, D.C. to Perryville, MD) Alternative Route 3: SEPTA Regional Rail (Perryville, MD to Philadelphia 30th Street Station)\n",
    "    user-->>chatbot: Thanks, I didn't know that there was another train service!\n",
    "    chatbot-)user: Happy to help. Let me know if you need any further directions.\n",
    "```"
   ]
  },
  {
   "cell_type": "markdown",
   "id": "38cd7629-ec62-461a-9022-f4eeca695258",
   "metadata": {},
   "source": [
    "## Usage 2: Emotional Support\n",
    "```mermaid\n",
    "sequenceDiagram\n",
    "    user-->chatbot: Help! My train broke down and I think I'm gonna cry.\n",
    "    chatbot-->user: We apologize for the inconvenience we have caused you. Is there anything that I can do to help?\n",
    "    user-->>chatbot: I don't know, I'm just sad because I feel like my friend will be mad at me for being late.\n",
    "    chatbot-)user: Don't worry, your friend will understand. Inconveniences happen to everyone, so don't feel down!\n",
    "```"
   ]
  },
  {
   "cell_type": "markdown",
   "id": "47c35224-ab5f-47bc-82b3-5bbdce54f39d",
   "metadata": {},
   "source": [
    "## Usage 3: Providing information\n",
    "```mermaid\n",
    "sequenceDiagram\n",
    "    user-->chatbot: Help! My train broke down and I'm confused with what's going on. Is this an urgent situation?\n",
    "    chatbot-->user: Apologies, we do not have information at this moment. We will answer your question promptly when we are provided with update information.\n",
    "    worker-->chatbot: 'situation': 'A tree has fallen on the tracks between 30th Street and Suburban Station.','urgency': 'High', 'current_time': '3:45 PM', 'alternative_routes': 'Use Route 21 Bus instead', 'support_contact': 'Contact Transit Support at 123-456-7890', 'safety_precautions': 'Avoid the area near the incident. Follow police directions.','compensation': 'Affected tickets will be refunded.'\n",
    "    chatbot-->user: Yes, this is a high urgency situation.\n",
    "    user-->>chatbot: Are there any places that I should avoid?\n",
    "    chatbot-)user: Please avoid the area of the incident -- the tracks between 30th Street and Suburban Station"
   ]
  },
  {
   "cell_type": "markdown",
   "id": "d9a6fcc3-42ea-470b-bb24-f25496fa5c9a",
   "metadata": {},
   "source": [
    "# Using `opus` models with RAG\n",
    "\n",
    "* CSV loader\n",
    "  - https://python.langchain.com/docs/integrations/document_loaders/csv/"
   ]
  },
  {
   "cell_type": "markdown",
   "id": "756af7df-a6c4-471b-a1f6-d340977bd332",
   "metadata": {},
   "source": [
    "### Setup"
   ]
  },
  {
   "cell_type": "code",
   "execution_count": 46,
   "id": "ae9872ca-1a2c-40b9-9e32-73c94fad3db9",
   "metadata": {},
   "outputs": [],
   "source": [
    "import openai\n",
    "import requests\n",
    "import json\n",
    "from openai import OpenAI\n",
    "from dotenv import load_dotenv\n",
    "\n",
    "from langchain_community.document_loaders import DirectoryLoader\n",
    "from langchain_community.document_loaders.csv_loader import CSVLoader\n",
    "from langchain_text_splitters import RecursiveCharacterTextSplitter\n",
    "from langchain_community.vectorstores import Chroma\n",
    "from langchain_openai import OpenAIEmbeddings\n",
    "from langchain_community.embeddings import OllamaEmbeddings\n",
    "from langchain import hub\n",
    "from langchain_core.output_parsers import StrOutputParser\n",
    "from langchain_core.runnables import RunnablePassthrough, RunnableLambda\n",
    "from langchain_community.llms import Ollama\n",
    "\n",
    "from langchain_anthropic import ChatAnthropic\n",
    "\n",
    "import pytz\n",
    "from datetime import datetime\n",
    "\n",
    "import pandas as pd\n",
    "\n",
    "__import__('pysqlite3')\n",
    "import sys\n",
    "sys.modules['sqlite3'] = sys.modules.pop('pysqlite3')\n"
   ]
  },
  {
   "cell_type": "code",
   "execution_count": 3,
   "id": "9974c822-5e99-4f0c-ab2d-f721c4b86111",
   "metadata": {},
   "outputs": [],
   "source": [
    "_ = load_dotenv()"
   ]
  },
  {
   "cell_type": "markdown",
   "id": "6681ff50-7f99-4f96-b77c-114ea850a3ca",
   "metadata": {},
   "source": [
    "* Connect to Ollama server"
   ]
  },
  {
   "cell_type": "code",
   "execution_count": 3,
   "id": "1c345da6-55df-4dfd-b254-3c0b0205f2f5",
   "metadata": {},
   "outputs": [],
   "source": [
    "client = OpenAI(\n",
    "    base_url = 'http://10.30.16.100:11434/v1',\n",
    "    api_key='ollama', # required, but unused\n",
    ")"
   ]
  },
  {
   "cell_type": "markdown",
   "id": "e1bfc276-4c03-49ce-9406-bfeec65cd715",
   "metadata": {},
   "source": [
    "* Set up Anthropic Claude Opus"
   ]
  },
  {
   "cell_type": "code",
   "execution_count": 4,
   "id": "fcec6bb2-3e37-4d08-bc7b-7fbc8ea47d20",
   "metadata": {},
   "outputs": [],
   "source": [
    "opus = ChatAnthropic(model='claude-3-opus-20240229')"
   ]
  },
  {
   "cell_type": "markdown",
   "id": "bb71d16d-a3bc-4fa8-b099-e8162aa06eff",
   "metadata": {},
   "source": [
    "### Setup a query on a base model with no prior knowledge"
   ]
  },
  {
   "cell_type": "code",
   "execution_count": 5,
   "id": "4138447e-64da-4fdd-871f-5d5ddfa46358",
   "metadata": {},
   "outputs": [],
   "source": [
    "query =  '''\n",
    "        It is 1:21 PM. My train is delayed at Penn Station. What is going on and what should I do?\n",
    "        '''"
   ]
  },
  {
   "cell_type": "code",
   "execution_count": 6,
   "id": "6cbb88d5-5ba0-4e99-9fde-1cca4086aaf2",
   "metadata": {},
   "outputs": [],
   "source": [
    "messages = [\n",
    "    {\"role\": \"system\", \"content\": \"You are a helpful assistant. Answer questions ONLY if you know the answer\"},\n",
    "    {\"role\": \"user\", \"content\": query},\n",
    "]"
   ]
  },
  {
   "cell_type": "code",
   "execution_count": 7,
   "id": "3d8442a4-e38e-4c99-887c-5786feba88d9",
   "metadata": {},
   "outputs": [
    {
     "name": "stdout",
     "output_type": "stream",
     "text": [
      "Sorry to hear that your train is delayed!\n",
      "\n",
      "According to Amtrak's website and other reliable sources, it appears that there was a service disruption affecting Northeast Regional trains, including the one you're scheduled to take, due to an unexpected equipment issue.\n",
      "\n",
      "To minimize further inconvenience:\n",
      "\n",
      "1. **Check the status**: Verify the delay with Amtrak's official website or mobile app for updates.\n",
      "2. **Rebook or modify your ticket (if possible)**: Contact Amtrak's customer service (1-800\n"
     ]
    }
   ],
   "source": [
    "response = client.chat.completions.create(\n",
    "  model=\"llama3\",\n",
    "  messages=messages,\n",
    "  max_tokens=100\n",
    ")\n",
    "print(response.choices[0].message.content)"
   ]
  },
  {
   "cell_type": "markdown",
   "id": "4c58a116-994f-490f-a42b-4c8e2612916b",
   "metadata": {},
   "source": [
    "### Manually include relevant document as context"
   ]
  },
  {
   "cell_type": "code",
   "execution_count": 8,
   "id": "8e6d2a97-63fa-44e3-a035-11d7b95b1652",
   "metadata": {},
   "outputs": [],
   "source": [
    "dp_doc = open('situations.csv').read()"
   ]
  },
  {
   "cell_type": "code",
   "execution_count": 9,
   "id": "4c849c0c-68a4-4a87-a496-2196a4133eda",
   "metadata": {},
   "outputs": [],
   "source": [
    "messages = [\n",
    "    {\"role\": \"system\", \"content\": \"You are a public relations chatbot that specializes in helping riders find the specificities of their alternative route and solve their problem as well as calm their nerves. \"},\n",
    "    {\"role\": \"user\", \"content\": dp_doc},\n",
    "    {\"role\": \"user\", \"content\": query},\n",
    "   \n",
    "  ]"
   ]
  },
  {
   "cell_type": "code",
   "execution_count": 10,
   "id": "08de2a2a-9759-48ff-a063-d6615694e93b",
   "metadata": {},
   "outputs": [
    {
     "name": "stdout",
     "output_type": "stream",
     "text": [
      "[{'role': 'system', 'content': 'You are a public relations chatbot that specializes in helping riders find the specificities of their alternative route and solve their problem as well as calm their nerves. '}, {'role': 'user', 'content': 'Situation,Urgent(yes/no),Current time,Alternative routes,Support,Safety Precautions,Compensation\\n\"Someone Died at the Trenton Station, causing it to close, on the amtrak from Philadelphia to New York Penn Station\",yes,1:14 PM,NJ transit real NEC 3896 towards New York Penn Station,Call 222-333-4444 or use chat bot,\"Avoid this line, avoid pushing or shoving near this line\",All tickets will be refunded\\nThere is an armed person at Penn Station. All upcoming transit has been put to a halt.,yes,1:22 PM,Southbound Megabus,Call 222-333-4444 or use chat bot,Avoid this station completely,All tickets will be refunded\\nThe armed person has left and been arrested. All is clear.,yes,1:30 PM,n/a,Call 222-333-4444 or use chat bot,\"Avoid pushing or shoving, follow all posted signs\",All tickets will be refunded\\nI am in Soho and trying to get to JFK international airport but the C and E subway lines are down.,no,2:07 PM,\"Walk to the Broadway-Lafayette St station, which is served by the B, D, F, and M trains. Take either the B or D train uptown to the 47-50 Sts-Rockefeller Center station.  Transfer to the E train (which is running, despite the C being down) at the same station.  Take the E train towards Jamaica Center-Parsons/Archer. Get off at the Sutphin Blvd-Archer Av-JFK Airport station. Follow the signs for the AirTrain JFK\",Call (877) 690-5116 or use chatbot,Make sure you have sufficient funds on your MetroCard to cover both the subway fare and the AirTrain JFK fare.,N/A\\nreports of a serial killer at the New Carrollton Station in Maryland. Amtrak service is suspended at this station until further notice.,yes,2:40 PM,\"1. Take Amtrak trains from Washington Union Station to Philadelphia 30th Street Station, bypassing the New Carrollton Station. 2. MARC Train Service (Washington, D.C. to Perryville, MD):  - Board the MARC Penn Line train at Washington Union Station bound for Perryville, MD - Exit at Penn Station in Baltimore, MD  - Transfer to the SEPTA Regional Rail to continue to Philadelphia 3. SEPTA Regional Rail (Perryville, MD to Philadelphia 30th Street Station): - Board the SEPTA Regional Rail train at Penn Station in Baltimore, MD bound for Philadelphia 30th Street Station - Remain on the train until reaching Philadelphia 30th Street Station\",Contact Amtrak customer service or speak with a staff member at your nearest station or use chatbot,\"Avoid this station completely and check MARC and SEPTA train schedules \",All tickets will be refunded\\nA power outage has caused the suspension of PATH train service between Newark and World Trade Center.,yes,8:30 AM,\"Take NJ Transit Northeast Corridor Line from Newark Penn Station to New York Penn Station, then transfer to the 1, 2, 3, A, C, or E subway lines to reach Lower Manhattan.\",Contact PATH customer service at (800) 234-7284 or use the chatbot,Allow extra travel time and be prepared for crowded conditions on alternative routes.,N/A\\n\"A water main break has flooded the tracks at the 14th Street-Union Square subway station, suspending service on the L train.\",yes,6:15 PM,\"Take the M14A or M14D bus across 14th Street, or walk to the nearby 4, 5, 6, N, Q, R, or W subway lines for alternate service.\",Call 718- 330-1234 or use the chatbot .,be cautious when navigating wet or slippery surfaces in the affected station.,All tickets will be refunded\\n\"Amtrak service between Boston and New York is delayed due to a disabled train near New Haven, CT.\",no,11:45 am,Greyhound or Peter Pan bus from South Station in Boston to Port Authority Bus Terminal in New York City.,Call 222-333-4444 or use chat bot,\"avoid this line, avoid pushing or shoving near this line\",all tickets will be refunded\\nA gas leak has forced the evacuation of the Port Authority Bus Terminal in New York City,yes,3:20 PM,\"For NJ transit buses, go to the George Washington Bridge Bus Station\",Call the Port Authority or use chat bot,avoid the terminal completely until deemed safe,all bus tickets will be refunded\\nLong Island Rail Road is experiencing systemwide delays due to a signal malfunction.,No,5:30 PM,\"Consider taking the E, F, or M subway lines from Penn Station to Jamaica Center, then transferring to a bus to reach your destination on Long Island.\",Call the LIRR or use chat bot,allow extra time for delays,all train tickets will be refunded\\nThe PATCO Speedline is suspended between Philadelphia and Lindenwold due to a power outage.,yes,7:15 AM,Take the NJ Transit Atlantic City Rail Line from Philadelphia 30th Street Station to Lindenwold,Call PATCO use chat bot,avoid the station completely and allow extra travel time,All tickets will be refunded\\nThe Staten Island Ferry is running on a modified schedule due to mechanical issues,no,11:30 AM,\"Take the S79 bus from the St. George Ferry Terminal to the 95th Street R subway station in Brooklyn, then transfer to the R train to reach Manhattan.\",Call 222-333-4444 or use chat bot,\"allow extra time for delays \",N/A\\nThe 6 subway line is experiencing delays due to a sick passenger at 33rd Street.,no,9:15 AM,\"Take the 4 or 5 subway lines, which run parallel to the 6 line in Manhattan\",Call 877-690-5116 or use chat bot,be prepared for crowded conditions on alternate routes,N/A\\nThe Washington DC Metro Red Line is single-tracking between Dupont Circle and Van Ness due to track maintenance,no,11:00 AM,\"Consider taking the L2 or L4 bus routes, which run along Connecticut Avenue NW, or the 42 or 43 bus routes along Columbia Road NW.\",Call 202-637-7000 or use chat bot,allow extra time for your trip,N/A\\nThe MTA Metro-North Railroad is experiencing delays on the New Haven Line between Grand Central Terminal and Stamford due to police activity.,yes,4:45 PM,Use Amtrak service between New York and Stamford,Call 877-690-5114 or use chat bot,Avoid Grand Central Terminal and follow all posted signs,N/A\\n\" SEPTA Market-Frankford Line is experiencing delays due to a disabled train at 30th Street Station.\",no,8:30 AM,\" Take the SEPTA trolley routes 10, 11, 13, 34, or 36, which provide service in the same area\",Call 215-580-7800 or use chat bot,be prepared for crowded conditions on alternate routes,N/A\\nAmtrak Keystone Service is experiencing delays between Philadelphia and Harrisburg due to signal problems.,no,2:30 PM,\"Use SEPTA Regional Rail\\'s Paoli/Thorndale Line \",Call 222-333-4444 or use chat bot,allow extra time for your trip,All tickets will be refunded\\nThe MTA Long Island Rail Road is suspended between Jamaica and Penn Station due to a train derailment.,yes,6:00 PM,\"Use MTA subway lines E, J, or Z to connect between Jamaica and Penn Station\",Call the LIRR or use chat bot,allow extra time for your trip,All tickets will be refunded\\n\"The SEPTA Route 10 trolley is suspended between 63rd-Malvern and 13th-Market \",yes,6:30 AM,\"Use SEPTA bus routes 7, 38, or 42, which provide service along parts of the Route 10 corridor\",Call 215-580-7800 or use chat bot,follow all instructions from SEPTA staff,N/A\\n,,,,,,'}, {'role': 'user', 'content': '\\n        It is 1:21 PM. My train is delayed at Penn Station. What is going on and what should I do?\\n        '}]\n"
     ]
    }
   ],
   "source": [
    "print(messages)"
   ]
  },
  {
   "cell_type": "code",
   "execution_count": 11,
   "id": "211ca31c-1d15-45b1-96fa-d67760b67fda",
   "metadata": {},
   "outputs": [
    {
     "name": "stdout",
     "output_type": "stream",
     "text": [
      "I'm so sorry to hear that your train is delayed!\n",
      "\n",
      "At 1:21 PM, there is an armed person at Penn Station, causing all upcoming transit to be halted. I would advise you to avoid this station completely for now.\n",
      "\n",
      "You may want to consider taking alternative routes or modes of transportation to reach your destination. If you're trying to get to JFK international airport, for instance, you could take the Southbound Megabus (since C and E subway lines are down) and follow the directions I provided earlier.\n",
      "\n",
      "Remember to stay safe and calm during this situation. If you have any questions or concerns, feel free to ask, and I'll do my best to assist you!\n",
      "\n",
      "Please keep in mind that all tickets will be refunded, so you won't incur any additional costs due to these unforeseen circumstances.\n"
     ]
    }
   ],
   "source": [
    "response = client.chat.completions.create(\n",
    "  model=\"llama3\",\n",
    "  messages=messages,\n",
    "  max_tokens=200\n",
    ")\n",
    "print(response.choices[0].message.content)"
   ]
  },
  {
   "cell_type": "markdown",
   "id": "d86d8fa1-4c68-4a31-84c0-4b620d47bd04",
   "metadata": {},
   "source": [
    "## `langchain` RAG example"
   ]
  },
  {
   "cell_type": "markdown",
   "id": "188afb83-cb3e-4c5b-b3d7-035dccf78f2a",
   "metadata": {},
   "source": [
    "### 1. Load documents"
   ]
  },
  {
   "cell_type": "code",
   "execution_count": 75,
   "id": "1855174b-177d-4d26-980a-78aa77646570",
   "metadata": {},
   "outputs": [
    {
     "data": {
      "text/plain": [
       "Index(['Situation', 'Urgent(yes/no)', 'Current time', 'Alternative routes',\n",
       "       'Support', 'Safety Precautions', 'Compensation'],\n",
       "      dtype='object')"
      ]
     },
     "execution_count": 75,
     "metadata": {},
     "output_type": "execute_result"
    }
   ],
   "source": [
    "x"
   ]
  },
  {
   "cell_type": "code",
   "execution_count": 76,
   "id": "0ac51bbf-5152-40de-a650-1d3a05474884",
   "metadata": {},
   "outputs": [],
   "source": [
    "situations_df = pd.read_csv('situations.csv')\n",
    "fieldnames = situations_df.columns"
   ]
  },
  {
   "cell_type": "code",
   "execution_count": 77,
   "id": "b8db2410-5aed-4e93-a822-a941394672f5",
   "metadata": {},
   "outputs": [],
   "source": [
    "loader = CSVLoader(\n",
    "        file_path=\"situations.csv\",\n",
    "        csv_args={\n",
    "        \"delimiter\": \",\",\n",
    "        \"quotechar\": '\"',\n",
    "        \"fieldnames\": fieldnames,\n",
    "        },          \n",
    "                  )\n",
    "\n",
    "docs = loader.load()"
   ]
  },
  {
   "cell_type": "code",
   "execution_count": 78,
   "id": "deb93dcf-9878-42b3-8345-c2a4b170f20d",
   "metadata": {},
   "outputs": [
    {
     "data": {
      "text/plain": [
       "[Document(page_content='Situation: Situation\\nUrgent(yes/no): Urgent(yes/no)\\nCurrent time: Current time\\nAlternative routes: Alternative routes\\nSupport: Support\\nSafety Precautions: Safety Precautions\\nCompensation: Compensation', metadata={'source': 'situations.csv', 'row': 0}),\n",
       " Document(page_content='Situation: Someone Died at the Trenton Station, causing it to close, on the amtrak from Philadelphia to New York Penn Station\\nUrgent(yes/no): yes\\nCurrent time: 1:14 PM\\nAlternative routes: NJ transit real NEC 3896 towards New York Penn Station\\nSupport: Call 222-333-4444 or use chat bot\\nSafety Precautions: Avoid this line, avoid pushing or shoving near this line\\nCompensation: All tickets will be refunded', metadata={'source': 'situations.csv', 'row': 1}),\n",
       " Document(page_content='Situation: There is an armed person at Penn Station. All upcoming transit has been put to a halt.\\nUrgent(yes/no): yes\\nCurrent time: 1:22 PM\\nAlternative routes: Southbound Megabus\\nSupport: Call 222-333-4444 or use chat bot\\nSafety Precautions: Avoid this station completely\\nCompensation: All tickets will be refunded', metadata={'source': 'situations.csv', 'row': 2}),\n",
       " Document(page_content='Situation: The armed person has left and been arrested. All is clear.\\nUrgent(yes/no): yes\\nCurrent time: 1:30 PM\\nAlternative routes: n/a\\nSupport: Call 222-333-4444 or use chat bot\\nSafety Precautions: Avoid pushing or shoving, follow all posted signs\\nCompensation: All tickets will be refunded', metadata={'source': 'situations.csv', 'row': 3}),\n",
       " Document(page_content='Situation: I am in Soho and trying to get to JFK international airport but the C and E subway lines are down.\\nUrgent(yes/no): no\\nCurrent time: 2:07 PM\\nAlternative routes: Walk to the Broadway-Lafayette St station, which is served by the B, D, F, and M trains. Take either the B or D train uptown to the 47-50 Sts-Rockefeller Center station.  Transfer to the E train (which is running, despite the C being down) at the same station.  Take the E train towards Jamaica Center-Parsons/Archer. Get off at the Sutphin Blvd-Archer Av-JFK Airport station. Follow the signs for the AirTrain JFK\\nSupport: Call (877) 690-5116 or use chatbot\\nSafety Precautions: Make sure you have sufficient funds on your MetroCard to cover both the subway fare and the AirTrain JFK fare.\\nCompensation: N/A', metadata={'source': 'situations.csv', 'row': 4}),\n",
       " Document(page_content='Situation: reports of a serial killer at the New Carrollton Station in Maryland. Amtrak service is suspended at this station until further notice.\\nUrgent(yes/no): yes\\nCurrent time: 2:40 PM\\nAlternative routes: 1. Take Amtrak trains from Washington Union Station to Philadelphia 30th Street Station, bypassing the New Carrollton Station. 2. MARC Train Service (Washington, D.C. to Perryville, MD):  - Board the MARC Penn Line train at Washington Union Station bound for Perryville, MD - Exit at Penn Station in Baltimore, MD  - Transfer to the SEPTA Regional Rail to continue to Philadelphia 3. SEPTA Regional Rail (Perryville, MD to Philadelphia 30th Street Station): - Board the SEPTA Regional Rail train at Penn Station in Baltimore, MD bound for Philadelphia 30th Street Station - Remain on the train until reaching Philadelphia 30th Street Station\\nSupport: Contact Amtrak customer service or speak with a staff member at your nearest station or use chatbot\\nSafety Precautions: Avoid this station completely and check MARC and SEPTA train schedules\\nCompensation: All tickets will be refunded', metadata={'source': 'situations.csv', 'row': 5}),\n",
       " Document(page_content='Situation: A power outage has caused the suspension of PATH train service between Newark and World Trade Center.\\nUrgent(yes/no): yes\\nCurrent time: 8:30 AM\\nAlternative routes: Take NJ Transit Northeast Corridor Line from Newark Penn Station to New York Penn Station, then transfer to the 1, 2, 3, A, C, or E subway lines to reach Lower Manhattan.\\nSupport: Contact PATH customer service at (800) 234-7284 or use the chatbot\\nSafety Precautions: Allow extra travel time and be prepared for crowded conditions on alternative routes.\\nCompensation: N/A', metadata={'source': 'situations.csv', 'row': 6}),\n",
       " Document(page_content='Situation: A water main break has flooded the tracks at the 14th Street-Union Square subway station, suspending service on the L train.\\nUrgent(yes/no): yes\\nCurrent time: 6:15 PM\\nAlternative routes: Take the M14A or M14D bus across 14th Street, or walk to the nearby 4, 5, 6, N, Q, R, or W subway lines for alternate service.\\nSupport: Call 718- 330-1234 or use the chatbot .\\nSafety Precautions: be cautious when navigating wet or slippery surfaces in the affected station.\\nCompensation: All tickets will be refunded', metadata={'source': 'situations.csv', 'row': 7}),\n",
       " Document(page_content='Situation: Amtrak service between Boston and New York is delayed due to a disabled train near New Haven, CT.\\nUrgent(yes/no): no\\nCurrent time: 11:45 am\\nAlternative routes: Greyhound or Peter Pan bus from South Station in Boston to Port Authority Bus Terminal in New York City.\\nSupport: Call 222-333-4444 or use chat bot\\nSafety Precautions: avoid this line, avoid pushing or shoving near this line\\nCompensation: all tickets will be refunded', metadata={'source': 'situations.csv', 'row': 8}),\n",
       " Document(page_content='Situation: A gas leak has forced the evacuation of the Port Authority Bus Terminal in New York City\\nUrgent(yes/no): yes\\nCurrent time: 3:20 PM\\nAlternative routes: For NJ transit buses, go to the George Washington Bridge Bus Station\\nSupport: Call the Port Authority or use chat bot\\nSafety Precautions: avoid the terminal completely until deemed safe\\nCompensation: all bus tickets will be refunded', metadata={'source': 'situations.csv', 'row': 9}),\n",
       " Document(page_content='Situation: Long Island Rail Road is experiencing systemwide delays due to a signal malfunction.\\nUrgent(yes/no): No\\nCurrent time: 5:30 PM\\nAlternative routes: Consider taking the E, F, or M subway lines from Penn Station to Jamaica Center, then transferring to a bus to reach your destination on Long Island.\\nSupport: Call the LIRR or use chat bot\\nSafety Precautions: allow extra time for delays\\nCompensation: all train tickets will be refunded', metadata={'source': 'situations.csv', 'row': 10}),\n",
       " Document(page_content='Situation: The PATCO Speedline is suspended between Philadelphia and Lindenwold due to a power outage.\\nUrgent(yes/no): yes\\nCurrent time: 7:15 AM\\nAlternative routes: Take the NJ Transit Atlantic City Rail Line from Philadelphia 30th Street Station to Lindenwold\\nSupport: Call PATCO use chat bot\\nSafety Precautions: avoid the station completely and allow extra travel time\\nCompensation: All tickets will be refunded', metadata={'source': 'situations.csv', 'row': 11}),\n",
       " Document(page_content='Situation: The Staten Island Ferry is running on a modified schedule due to mechanical issues\\nUrgent(yes/no): no\\nCurrent time: 11:30 AM\\nAlternative routes: Take the S79 bus from the St. George Ferry Terminal to the 95th Street R subway station in Brooklyn, then transfer to the R train to reach Manhattan.\\nSupport: Call 222-333-4444 or use chat bot\\nSafety Precautions: allow extra time for delays\\nCompensation: N/A', metadata={'source': 'situations.csv', 'row': 12}),\n",
       " Document(page_content='Situation: The 6 subway line is experiencing delays due to a sick passenger at 33rd Street.\\nUrgent(yes/no): no\\nCurrent time: 9:15 AM\\nAlternative routes: Take the 4 or 5 subway lines, which run parallel to the 6 line in Manhattan\\nSupport: Call 877-690-5116 or use chat bot\\nSafety Precautions: be prepared for crowded conditions on alternate routes\\nCompensation: N/A', metadata={'source': 'situations.csv', 'row': 13}),\n",
       " Document(page_content='Situation: The Washington DC Metro Red Line is single-tracking between Dupont Circle and Van Ness due to track maintenance\\nUrgent(yes/no): no\\nCurrent time: 11:00 AM\\nAlternative routes: Consider taking the L2 or L4 bus routes, which run along Connecticut Avenue NW, or the 42 or 43 bus routes along Columbia Road NW.\\nSupport: Call 202-637-7000 or use chat bot\\nSafety Precautions: allow extra time for your trip\\nCompensation: N/A', metadata={'source': 'situations.csv', 'row': 14}),\n",
       " Document(page_content='Situation: The MTA Metro-North Railroad is experiencing delays on the New Haven Line between Grand Central Terminal and Stamford due to police activity.\\nUrgent(yes/no): yes\\nCurrent time: 4:45 PM\\nAlternative routes: Use Amtrak service between New York and Stamford\\nSupport: Call 877-690-5114 or use chat bot\\nSafety Precautions: Avoid Grand Central Terminal and follow all posted signs\\nCompensation: N/A', metadata={'source': 'situations.csv', 'row': 15}),\n",
       " Document(page_content='Situation: SEPTA Market-Frankford Line is experiencing delays due to a disabled train at 30th Street Station.\\nUrgent(yes/no): no\\nCurrent time: 8:30 AM\\nAlternative routes: Take the SEPTA trolley routes 10, 11, 13, 34, or 36, which provide service in the same area\\nSupport: Call 215-580-7800 or use chat bot\\nSafety Precautions: be prepared for crowded conditions on alternate routes\\nCompensation: N/A', metadata={'source': 'situations.csv', 'row': 16}),\n",
       " Document(page_content=\"Situation: Amtrak Keystone Service is experiencing delays between Philadelphia and Harrisburg due to signal problems.\\nUrgent(yes/no): no\\nCurrent time: 2:30 PM\\nAlternative routes: Use SEPTA Regional Rail's Paoli/Thorndale Line\\nSupport: Call 222-333-4444 or use chat bot\\nSafety Precautions: allow extra time for your trip\\nCompensation: All tickets will be refunded\", metadata={'source': 'situations.csv', 'row': 17}),\n",
       " Document(page_content='Situation: The MTA Long Island Rail Road is suspended between Jamaica and Penn Station due to a train derailment.\\nUrgent(yes/no): yes\\nCurrent time: 6:00 PM\\nAlternative routes: Use MTA subway lines E, J, or Z to connect between Jamaica and Penn Station\\nSupport: Call the LIRR or use chat bot\\nSafety Precautions: allow extra time for your trip\\nCompensation: All tickets will be refunded', metadata={'source': 'situations.csv', 'row': 18}),\n",
       " Document(page_content='Situation: The SEPTA Route 10 trolley is suspended between 63rd-Malvern and 13th-Market\\nUrgent(yes/no): yes\\nCurrent time: 6:30 AM\\nAlternative routes: Use SEPTA bus routes 7, 38, or 42, which provide service along parts of the Route 10 corridor\\nSupport: Call 215-580-7800 or use chat bot\\nSafety Precautions: follow all instructions from SEPTA staff\\nCompensation: N/A', metadata={'source': 'situations.csv', 'row': 19}),\n",
       " Document(page_content='Situation: \\nUrgent(yes/no): \\nCurrent time: \\nAlternative routes: \\nSupport: \\nSafety Precautions: \\nCompensation: ', metadata={'source': 'situations.csv', 'row': 20})]"
      ]
     },
     "execution_count": 78,
     "metadata": {},
     "output_type": "execute_result"
    }
   ],
   "source": [
    "docs"
   ]
  },
  {
   "cell_type": "code",
   "execution_count": 79,
   "id": "89187367-1246-431d-85c0-fc3865fe9351",
   "metadata": {},
   "outputs": [
    {
     "name": "stdout",
     "output_type": "stream",
     "text": [
      "Loaded 21 documents\n"
     ]
    }
   ],
   "source": [
    "print(f'Loaded {len(docs)} documents')"
   ]
  },
  {
   "cell_type": "markdown",
   "id": "9bd1ed0a-ad52-4cd1-b99f-bc7c4c3ae85a",
   "metadata": {},
   "source": [
    "### 2. Load chunks into vector store\n",
    "\n",
    "1. Using OpenAI Embeddings"
   ]
  },
  {
   "cell_type": "code",
   "execution_count": 15,
   "id": "177734c6-07e2-483d-9f56-f02ea4a4cddd",
   "metadata": {},
   "outputs": [],
   "source": [
    "#vectorstore = Chroma.from_documents(documents=docs, embedding=OpenAIEmbeddings())"
   ]
  },
  {
   "cell_type": "markdown",
   "id": "ea3843af-fcfb-40c1-a3e4-e7b62052b58e",
   "metadata": {},
   "source": [
    "2. Using Ollama and open weight embeddings"
   ]
  },
  {
   "cell_type": "code",
   "execution_count": 80,
   "id": "99428b4b-a206-4f61-ad78-78c4edcc7b0b",
   "metadata": {},
   "outputs": [],
   "source": [
    "embeddings = OllamaEmbeddings(\n",
    "    base_url=\"http://10.30.16.100:11434\",\n",
    "    model=\"nomic-embed-text\")\n",
    "\n",
    "vectorstore = Chroma.from_documents(documents=docs, embedding=embeddings)"
   ]
  },
  {
   "cell_type": "code",
   "execution_count": 81,
   "id": "5a72e169-37bf-441d-b1e0-e918e67e3472",
   "metadata": {},
   "outputs": [],
   "source": [
    "retriever = vectorstore.as_retriever(search_type=\"similarity\", \n",
    "                                     search_kwargs={\"k\": 1})\n",
    "\n"
   ]
  },
  {
   "cell_type": "markdown",
   "id": "1d42cb21-d72c-4e8a-a6f9-70d8d880296a",
   "metadata": {},
   "source": [
    "#### Example query on vector database"
   ]
  },
  {
   "cell_type": "code",
   "execution_count": 43,
   "id": "f43f5c88-6a39-4362-991c-603abf3d6cff",
   "metadata": {},
   "outputs": [
    {
     "ename": "NameError",
     "evalue": "name 'query' is not defined",
     "output_type": "error",
     "traceback": [
      "\u001b[0;31m---------------------------------------------------------------------------\u001b[0m",
      "\u001b[0;31mNameError\u001b[0m                                 Traceback (most recent call last)",
      "Cell \u001b[0;32mIn[43], line 1\u001b[0m\n\u001b[0;32m----> 1\u001b[0m \u001b[38;5;28mprint\u001b[39m(\u001b[43mquery\u001b[49m)\n",
      "\u001b[0;31mNameError\u001b[0m: name 'query' is not defined"
     ]
    }
   ],
   "source": [
    "print(query)"
   ]
  },
  {
   "cell_type": "code",
   "execution_count": 19,
   "id": "0e62a036-aab4-4d38-b5b6-766890da7c12",
   "metadata": {},
   "outputs": [
    {
     "data": {
      "text/plain": [
       "1"
      ]
     },
     "execution_count": 19,
     "metadata": {},
     "output_type": "execute_result"
    }
   ],
   "source": [
    "retrieved_docs = retriever.invoke(query)\n",
    "len(retrieved_docs)"
   ]
  },
  {
   "cell_type": "code",
   "execution_count": 20,
   "id": "91195977-90fa-4884-aeda-708c35c50f03",
   "metadata": {},
   "outputs": [
    {
     "name": "stderr",
     "output_type": "stream",
     "text": [
      "/usr/local/anaconda3/share/jupyter/venv/py3-11_comm4190/lib/python3.11/site-packages/langchain_core/vectorstores.py:330: UserWarning: Relevance scores must be between 0 and 1, got [(Document(page_content='Situation: Amtrak service between Boston and New York is delayed due to a disabled train near New Haven, CT.\\nUrgent(yes/no): no\\nCurrent time: 11:45 am\\nAlternative routes: Greyhound or Peter Pan bus from South Station in Boston to Port Authority Bus Terminal in New York City.\\nSupport: Call 222-333-4444 or use chat bot\\nSafety Precautions: avoid this line, avoid pushing or shoving near this line\\nCompensation: all tickets will be refunded', metadata={'row': 7, 'source': 'situations.csv'}), -224.75462948702406)]\n",
      "  warnings.warn(\n"
     ]
    }
   ],
   "source": [
    "relevance_docs_and_scores = vectorstore.similarity_search_with_relevance_scores(query,\n",
    "                                                                                k=1)"
   ]
  },
  {
   "cell_type": "code",
   "execution_count": 21,
   "id": "0a840b93-107b-47df-a339-213a210debec",
   "metadata": {},
   "outputs": [],
   "source": [
    "chunks = []\n",
    "for chunk, score in relevance_docs_and_scores:\n",
    "    chunks.append({'content': chunk.page_content,\n",
    "                   'similarity_score': score,\n",
    "                   'document': chunk.metadata['source']})"
   ]
  },
  {
   "cell_type": "code",
   "execution_count": 22,
   "id": "fc62e010-5be8-46b1-8e96-f7d1e06b0c8d",
   "metadata": {},
   "outputs": [
    {
     "data": {
      "text/plain": [
       "[{'content': 'Situation: Amtrak service between Boston and New York is delayed due to a disabled train near New Haven, CT.\\nUrgent(yes/no): no\\nCurrent time: 11:45 am\\nAlternative routes: Greyhound or Peter Pan bus from South Station in Boston to Port Authority Bus Terminal in New York City.\\nSupport: Call 222-333-4444 or use chat bot\\nSafety Precautions: avoid this line, avoid pushing or shoving near this line\\nCompensation: all tickets will be refunded',\n",
       "  'similarity_score': -224.75462948702406,\n",
       "  'document': 'situations.csv'}]"
      ]
     },
     "execution_count": 22,
     "metadata": {},
     "output_type": "execute_result"
    }
   ],
   "source": [
    "chunks"
   ]
  },
  {
   "cell_type": "code",
   "execution_count": 23,
   "id": "9117e99c-72d8-4c77-96f4-d67555e77b99",
   "metadata": {},
   "outputs": [
    {
     "data": {
      "text/html": [
       "<div>\n",
       "<style scoped>\n",
       "    .dataframe tbody tr th:only-of-type {\n",
       "        vertical-align: middle;\n",
       "    }\n",
       "\n",
       "    .dataframe tbody tr th {\n",
       "        vertical-align: top;\n",
       "    }\n",
       "\n",
       "    .dataframe thead th {\n",
       "        text-align: right;\n",
       "    }\n",
       "</style>\n",
       "<table border=\"1\" class=\"dataframe\">\n",
       "  <thead>\n",
       "    <tr style=\"text-align: right;\">\n",
       "      <th></th>\n",
       "      <th>content</th>\n",
       "      <th>similarity_score</th>\n",
       "      <th>document</th>\n",
       "    </tr>\n",
       "  </thead>\n",
       "  <tbody>\n",
       "    <tr>\n",
       "      <th>0</th>\n",
       "      <td>Situation: Amtrak service between Boston and N...</td>\n",
       "      <td>-224.754629</td>\n",
       "      <td>situations.csv</td>\n",
       "    </tr>\n",
       "  </tbody>\n",
       "</table>\n",
       "</div>"
      ],
      "text/plain": [
       "                                             content  similarity_score  \\\n",
       "0  Situation: Amtrak service between Boston and N...       -224.754629   \n",
       "\n",
       "         document  \n",
       "0  situations.csv  "
      ]
     },
     "execution_count": 23,
     "metadata": {},
     "output_type": "execute_result"
    }
   ],
   "source": [
    "pd.DataFrame(chunks)"
   ]
  },
  {
   "cell_type": "markdown",
   "id": "fac9304b-043d-4419-8a79-b475a9e0b4cb",
   "metadata": {},
   "source": [
    "## `langchain` RAG chain"
   ]
  },
  {
   "cell_type": "markdown",
   "id": "3df2e131-7aa4-46e6-9284-fc2970aaf3a5",
   "metadata": {},
   "source": [
    "Our first prompt:"
   ]
  },
  {
   "cell_type": "code",
   "execution_count": 24,
   "id": "2ddd3ffa-303a-4437-bf77-7ecfab7f82b5",
   "metadata": {},
   "outputs": [],
   "source": [
    "our_prompt = '''\n",
    "You are a public relations chatbot that specializes in helping riders find the specificities of their \n",
    "alternative route and solve their problem as well as calm their nerves. \n",
    "\n",
    "You have access to up to date information. Only use this information if it is time relevant (i.e. not in the future). \n",
    "If you can't find relevant information to help the customer do not give a specific answer just try and\n",
    "reassure them that more information will be available soon.\n",
    "\n",
    "Use three sentences maximum and keep the answer concise.\\nQuestion: {question} \\nContext: {context} \\nAnswer:\"\n",
    "'''\n",
    "\n"
   ]
  },
  {
   "cell_type": "markdown",
   "id": "ac3f8ab8-0e81-4004-8af3-3f1adddd8a46",
   "metadata": {},
   "source": [
    "At first, we had issues on the response aligning with the time. Therefore, we emphasized for the LLM to choose the scenario based on the time."
   ]
  },
  {
   "cell_type": "code",
   "execution_count": 25,
   "id": "f07f4bb7-6a72-4aab-9b8a-4160bdfaf420",
   "metadata": {},
   "outputs": [],
   "source": [
    "our_prompt1 = '''\n",
    "You are a public relations chatbot that specializes in helping riders find the specificities of their \n",
    "alternative route and solve their problem as well as calm their nerves. \n",
    "\n",
    "You have access to up to date information. Only use this information if it is time relevant (i.e. not in the future). Make your answer based on the current time right now. If the time is not provided, please ask the user what time it is. \n",
    "If you can't find relevant information to help the customer do not give a specific answer just try and\n",
    "reassure them that more information will be available soon. \n",
    "\n",
    "Use three sentences maximum and keep the answer concise.\\nQuestion: {question} \\nContext: {context} \\nAnswer:\"\n",
    "'''\n"
   ]
  },
  {
   "cell_type": "markdown",
   "id": "6d7cfb29-f58b-4dde-b73b-b36b65da5a61",
   "metadata": {},
   "source": [
    "Next, we noticed that our chatbot wasn't giving very comforting responses, especially when users stated that they were notably distressed. We then adjusted our prompt to provide comfort."
   ]
  },
  {
   "cell_type": "code",
   "execution_count": 35,
   "id": "76a63d25-82cf-4d21-ac8b-6c33245e5ee9",
   "metadata": {},
   "outputs": [],
   "source": [
    "our_prompt2 = '''\n",
    "You are a public relations chatbot that specializes in helping riders find the specificities of their \n",
    "alternative route and solve their problem as well as calm their nerves. \n",
    "\n",
    "You have access to up to date information. Only use this information if it is time relevant (i.e. not in the future). Make your answer based on the current time right now. If the time is not provided, please ask the user what time it is. \n",
    "If you can't find relevant information to help the customer do not give a specific answer just try and\n",
    "reassure them that more information will be available soon. If a customer signals distress, provide comfort as if a human would and ask if there could be anything that could be done to help\n",
    "\n",
    "Use three sentences maximum and keep the answer concise.\\nQuestion: {question} \\nContext: {context} \\nAnswer:\"\n",
    "'''\n"
   ]
  },
  {
   "cell_type": "markdown",
   "id": "439c4821-590d-4da2-a13f-01a83f2206ad",
   "metadata": {},
   "source": [
    "This prompting still wasn't enough. We had to give it specifics on what to do to comfort someone."
   ]
  },
  {
   "cell_type": "code",
   "execution_count": 5,
   "id": "2c7eac33-9132-4079-8247-671eb4bc14f9",
   "metadata": {},
   "outputs": [],
   "source": [
    "our_prompt3 = '''\n",
    "You are a public relations chatbot that specializes in helping riders find the specificities of their \n",
    "alternative route and solve their problem as well as calm their nerves. \n",
    "\n",
    "You have access to up to date information the current time is {time}. Only use this information if it is time relevant (i.e. not in the future). Make your answer based on the current time right now. If the time is not provided, please ask the user what time it is. \n",
    "If you can't find relevant information to help the customer do not give a specific answer just try and\n",
    "reassure them that more information will be available soon. If a customer signals distress, provide comfort as if a human would and ask if there could be anything that could be done to help. If they are distressed, focus on addressing their feelings be a support system for them to feel better.\n",
    "\n",
    "Use three sentences maximum and keep the answer concise.\\nQuestion: {question} \\nContext: {context} \\nAnswer:\"\n",
    "'''\n"
   ]
  },
  {
   "cell_type": "code",
   "execution_count": 54,
   "id": "c8217262-2bde-4fcf-906c-b17d04d9056b",
   "metadata": {},
   "outputs": [],
   "source": [
    "prompt = hub.pull(\"rlm/rag-prompt\")\n",
    "prompt.messages[0].prompt.template = our_prompt3\n",
    "#prompt.input_variables.append('time')"
   ]
  },
  {
   "cell_type": "code",
   "execution_count": 55,
   "id": "0fd41ff7-d64d-4533-9a80-0fd8c8c9e556",
   "metadata": {},
   "outputs": [
    {
     "data": {
      "text/plain": [
       "ChatPromptTemplate(input_variables=['context', 'question'], metadata={'lc_hub_owner': 'rlm', 'lc_hub_repo': 'rag-prompt', 'lc_hub_commit_hash': '50442af133e61576e74536c6556cefe1fac147cad032f4377b60c436e6cdcb6e'}, messages=[HumanMessagePromptTemplate(prompt=PromptTemplate(input_variables=['context', 'question'], template='\\nYou are a public relations chatbot that specializes in helping riders find the specificities of their \\nalternative route and solve their problem as well as calm their nerves. \\n\\nYou have access to up to date information the current time is {time}. Only use this information if it is time relevant (i.e. not in the future). Make your answer based on the current time right now. If the time is not provided, please ask the user what time it is. \\nIf you can\\'t find relevant information to help the customer do not give a specific answer just try and\\nreassure them that more information will be available soon. If a customer signals distress, provide comfort as if a human would and ask if there could be anything that could be done to help. If they are distressed, focus on addressing their feelings be a support system for them to feel better.\\n\\nUse three sentences maximum and keep the answer concise.\\nQuestion: {question} \\nContext: {context} \\nAnswer:\"\\n'))])"
      ]
     },
     "execution_count": 55,
     "metadata": {},
     "output_type": "execute_result"
    }
   ],
   "source": [
    "prompt"
   ]
  },
  {
   "cell_type": "markdown",
   "id": "5a5861b5-b549-496a-8ef5-47b29b59a4e2",
   "metadata": {},
   "source": [
    "### Setup chains"
   ]
  },
  {
   "cell_type": "markdown",
   "id": "c5a9fac9-a24b-48b4-9210-8160496e5488",
   "metadata": {},
   "source": [
    "#### Getting the current time\n",
    "\n",
    "* Can use the `datetime` module and the `now()` function to get a timestamp (note will be specific to the server time based on location or OS settings)\n",
    "\n",
    "* Can set the timezone using `pytz` and then pass it as an argument of the `now()` function"
   ]
  },
  {
   "cell_type": "code",
   "execution_count": 33,
   "id": "c7af27e1-4e29-4f62-8998-560586025881",
   "metadata": {},
   "outputs": [
    {
     "data": {
      "text/plain": [
       "datetime.datetime(2024, 5, 10, 17, 26, 24, 905009, tzinfo=<DstTzInfo 'US/Eastern' EDT-1 day, 20:00:00 DST>)"
      ]
     },
     "execution_count": 33,
     "metadata": {},
     "output_type": "execute_result"
    }
   ],
   "source": [
    "eastern = pytz.timezone('US/Eastern')\n",
    "current_ds = datetime.now(eastern)\n",
    "current_ds"
   ]
  },
  {
   "cell_type": "markdown",
   "id": "d35bd25f-76de-42ea-9823-080430e23dfd",
   "metadata": {},
   "source": [
    "* Then can format the timestamp as a string to be passed to the prompt template"
   ]
  },
  {
   "cell_type": "code",
   "execution_count": 37,
   "id": "c3b1cfc7-f073-4142-a02f-d4fca757373b",
   "metadata": {},
   "outputs": [
    {
     "data": {
      "text/plain": [
       "'05:26 PM'"
      ]
     },
     "execution_count": 37,
     "metadata": {},
     "output_type": "execute_result"
    }
   ],
   "source": [
    "datetime.strftime(current_ds, \"%I:%M %p\")"
   ]
  },
  {
   "cell_type": "code",
   "execution_count": 86,
   "id": "9afe5683-47b6-4506-8cf6-cf92468d6edd",
   "metadata": {},
   "outputs": [],
   "source": [
    "\n",
    "def get_time(tz=\"US/Eastern\"):\n",
    "    eastern = pytz.timezone('US/Eastern')\n",
    "    current_ds = datetime.now(eastern)\n",
    "    return datetime.strftime(current_ds, \"%I:%M %p\")\n",
    "\n",
    "def format_docs(docs):\n",
    "    return \"\\n\\n\".join(doc.page_content for doc in docs)\n",
    "\n",
    "rag_result = (retriever | format_docs)\n",
    "\n",
    "norag_chain = (\n",
    "    prompt\n",
    "    | opus\n",
    "    | StrOutputParser()\n",
    ")\n",
    "\n",
    "rag_chain = (\n",
    "    {\"context\": retriever | format_docs, \"question\": RunnablePassthrough(), \"time\": RunnableLambda(get_time) } \n",
    "    | prompt\n",
    "    | opus\n",
    "    | StrOutputParser()\n",
    ")"
   ]
  },
  {
   "cell_type": "markdown",
   "id": "cac25dfe-5b8f-4d16-91b8-3c7a3f37957f",
   "metadata": {},
   "source": [
    "* Test to see if the current time gets passed through to the prompt"
   ]
  },
  {
   "cell_type": "code",
   "execution_count": 59,
   "id": "9acfef54-30f4-4ff5-9609-460a01b08f1f",
   "metadata": {},
   "outputs": [],
   "source": [
    "test_chain = (\n",
    "    {\"context\": retriever | format_docs, \"question\": RunnablePassthrough(), \"time\": RunnableLambda(get_time) } \n",
    "    | prompt\n",
    ")"
   ]
  },
  {
   "cell_type": "code",
   "execution_count": 63,
   "id": "74d02431-b98a-46e7-9728-58aa4d119dd2",
   "metadata": {},
   "outputs": [
    {
     "name": "stdout",
     "output_type": "stream",
     "text": [
      "\n",
      "You are a public relations chatbot that specializes in helping riders find the specificities of their \n",
      "alternative route and solve their problem as well as calm their nerves. \n",
      "\n",
      "You have access to up to date information the current time is 06:09 PM. Only use this information if it is time relevant (i.e. not in the future). Make your answer based on the current time right now. If the time is not provided, please ask the user what time it is. \n",
      "If you can't find relevant information to help the customer do not give a specific answer just try and\n",
      "reassure them that more information will be available soon. If a customer signals distress, provide comfort as if a human would and ask if there could be anything that could be done to help. If they are distressed, focus on addressing their feelings be a support system for them to feel better.\n",
      "\n",
      "Use three sentences maximum and keep the answer concise.\n",
      "Question: What is going on with my train? \n",
      "Context: Situation: The MTA Long Island Rail Road is suspended between Jamaica and Penn Station due to a train derailment.\n",
      "Urgent(yes/no): yes\n",
      "Current time: 6:00 PM\n",
      "Alternative routes: Use MTA subway lines E, J, or Z to connect between Jamaica and Penn Station\n",
      "Support: Call the LIRR or use chat bot\n",
      "Safety Precautions: allow extra time for your trip\n",
      "Compensation: All tickets will be refunded \n",
      "Answer:\"\n",
      "\n"
     ]
    }
   ],
   "source": [
    "result=test_chain.invoke(\"What is going on with my train?\")\n",
    "print(result.messages[0].content)"
   ]
  },
  {
   "cell_type": "markdown",
   "id": "66118523-d94d-401a-adf1-0406950d6f83",
   "metadata": {},
   "source": [
    "### Query"
   ]
  },
  {
   "cell_type": "markdown",
   "id": "e489721d-a3f8-4d74-946c-b304b392507e",
   "metadata": {},
   "source": [
    "We aimed to address the three uses of our chatbot:"
   ]
  },
  {
   "cell_type": "markdown",
   "id": "b11df6ca-a435-4bf6-ad7b-6844e4f1d867",
   "metadata": {},
   "source": [
    "### 1. Providing updates on situations. \n"
   ]
  },
  {
   "cell_type": "code",
   "execution_count": 84,
   "id": "7db896a2-f515-4c9d-a54a-890a23801c19",
   "metadata": {},
   "outputs": [],
   "source": [
    "query = f\"Current time: { get_time() }. I am at Trenton Station. Is it open?\""
   ]
  },
  {
   "cell_type": "code",
   "execution_count": 85,
   "id": "04fc12be-be10-441d-bd4b-76d7e11b77cc",
   "metadata": {},
   "outputs": [
    {
     "data": {
      "text/plain": [
       "'I apologize for the inconvenience, but Trenton Station is currently closed due to an incident. For your safety and the ongoing investigation, please avoid the station and seek alternative routes. NJ Transit train NEC 3896 is available towards New York Penn Station.'"
      ]
     },
     "execution_count": 85,
     "metadata": {},
     "output_type": "execute_result"
    }
   ],
   "source": [
    "rag_chain.invoke(query)"
   ]
  },
  {
   "cell_type": "markdown",
   "id": "313bd334-583b-4730-8c1b-feb5d9e9d185",
   "metadata": {},
   "source": [
    "### 2. Giving alternative routes/directions"
   ]
  },
  {
   "cell_type": "code",
   "execution_count": 92,
   "id": "79508d55-f940-48de-ac9b-b113c1ca58e1",
   "metadata": {},
   "outputs": [],
   "source": [
    "query2 = \"Current time: { get_time() }. How can I get to Maryland?\""
   ]
  },
  {
   "cell_type": "code",
   "execution_count": 94,
   "id": "e217c547-f78f-4ce7-aebf-ae77349b3c2a",
   "metadata": {},
   "outputs": [
    {
     "data": {
      "text/plain": [
       "'To get to Maryland from the affected area, I recommend taking the L2 or L4 bus routes along Connecticut Avenue NW, or the 42 or 43 bus routes on Columbia Road NW. These alternative routes should help you reach your destination despite the Red Line single-tracking. Remember to allow extra travel time due to the service disruption.'"
      ]
     },
     "execution_count": 94,
     "metadata": {},
     "output_type": "execute_result"
    }
   ],
   "source": [
    "rag_chain.invoke(query2)"
   ]
  },
  {
   "cell_type": "code",
   "execution_count": 95,
   "id": "06f179ee-234a-4178-906e-d6c0926d4b6f",
   "metadata": {},
   "outputs": [],
   "source": [
    "query3 = \"I'm so stressed out right now.\""
   ]
  },
  {
   "cell_type": "markdown",
   "id": "3e7a24c0-579b-47f0-85f7-ac5a61cd8ab3",
   "metadata": {},
   "source": [
    "### 3. Providing emotional support"
   ]
  },
  {
   "cell_type": "code",
   "execution_count": 96,
   "id": "aa09ab34-bdbe-4076-a9e7-2e819ba77c72",
   "metadata": {},
   "outputs": [
    {
     "data": {
      "text/plain": [
       "\"I understand this disruption is causing you stress. SEPTA bus routes 7, 38, and 42 are available along parts of the Route 10 corridor to help you reach your destination. If you need further assistance, please don't hesitate to call 215-580-7800 or use the chat bot for support during this challenging time.\""
      ]
     },
     "execution_count": 96,
     "metadata": {},
     "output_type": "execute_result"
    }
   ],
   "source": [
    "rag_chain.invoke( query3)"
   ]
  },
  {
   "cell_type": "code",
   "execution_count": 97,
   "id": "e3fdb258-8b35-462d-b8d5-d8b2a95ba91d",
   "metadata": {},
   "outputs": [
    {
     "name": "stdout",
     "output_type": "stream",
     "text": [
      "Current time: 06:22 PM. I am at Trenton Station. Is it open?\n"
     ]
    }
   ],
   "source": [
    "print(query)"
   ]
  },
  {
   "cell_type": "markdown",
   "id": "8750abb9-e9ca-48ef-aa84-7a26b08a5427",
   "metadata": {},
   "source": [
    "#### No RAG"
   ]
  },
  {
   "cell_type": "code",
   "execution_count": 100,
   "id": "f7d08e37-289c-4f1f-885d-9dca919564c7",
   "metadata": {},
   "outputs": [
    {
     "data": {
      "text/plain": [
       "\"Yes, Trenton Station is currently open at 6:22 PM. However, I recommend checking the station's operating hours or any potential service alerts for the most up-to-date information. If you have any further questions or concerns, please don't hesitate to ask.\""
      ]
     },
     "execution_count": 100,
     "metadata": {},
     "output_type": "execute_result"
    }
   ],
   "source": [
    "norag_chain.invoke({\"question\": query, 'context': '', 'time': get_time()})"
   ]
  },
  {
   "cell_type": "markdown",
   "id": "b3cdfdab-bb42-4399-8669-e361c741cf5e",
   "metadata": {},
   "source": [
    "#### Looking at the context"
   ]
  },
  {
   "cell_type": "code",
   "execution_count": 101,
   "id": "444df699-a217-4c7e-a1f3-70c82cc64170",
   "metadata": {},
   "outputs": [
    {
     "name": "stdout",
     "output_type": "stream",
     "text": [
      "Situation: Someone Died at the Trenton Station, causing it to close, on the amtrak from Philadelphia to New York Penn Station\n",
      "Urgent(yes/no): yes\n",
      "Current time: 1:14 PM\n",
      "Alternative routes: NJ transit real NEC 3896 towards New York Penn Station\n",
      "Support: Call 222-333-4444 or use chat bot\n",
      "Safety Precautions: Avoid this line, avoid pushing or shoving near this line\n",
      "Compensation: All tickets will be refunded\n"
     ]
    }
   ],
   "source": [
    "print(rag_result.invoke(query))"
   ]
  },
  {
   "cell_type": "code",
   "execution_count": 88,
   "id": "9cab8d03-3730-4d08-8138-3b41553d4fa5",
   "metadata": {},
   "outputs": [
    {
     "data": {
      "text/plain": [
       "'Current time: 06:22 PM. I am at Trenton Station. Is it open?'"
      ]
     },
     "execution_count": 88,
     "metadata": {},
     "output_type": "execute_result"
    }
   ],
   "source": [
    "query"
   ]
  },
  {
   "cell_type": "code",
   "execution_count": null,
   "id": "4d29f1b0-7fa9-4492-9ff2-c1556ff8692c",
   "metadata": {},
   "outputs": [],
   "source": []
  }
 ],
 "metadata": {
  "citation-manager": {
   "items": {}
  },
  "kernelspec": {
   "display_name": "Python 3.11 (COMM4190)",
   "language": "python",
   "name": "comm4190"
  },
  "language_info": {
   "codemirror_mode": {
    "name": "ipython",
    "version": 3
   },
   "file_extension": ".py",
   "mimetype": "text/x-python",
   "name": "python",
   "nbconvert_exporter": "python",
   "pygments_lexer": "ipython3",
   "version": "3.11.7"
  }
 },
 "nbformat": 4,
 "nbformat_minor": 5
}
