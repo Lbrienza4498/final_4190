{
 "cells": [
  {
   "cell_type": "markdown",
   "id": "4a8273ed-05f4-4b01-bedb-0cdcb385eb75",
   "metadata": {},
   "source": [
    "### Setup"
   ]
  },
  {
   "cell_type": "code",
   "execution_count": 2,
   "id": "64137bce-274f-4687-b23b-89fb5c5005f7",
   "metadata": {},
   "outputs": [
    {
     "data": {
      "text/plain": [
       "False"
      ]
     },
     "execution_count": 2,
     "metadata": {},
     "output_type": "execute_result"
    }
   ],
   "source": [
    "from langchain_community.llms import Ollama\n",
    "from langchain_openai import ChatOpenAI\n",
    "from langchain_core.output_parsers import StrOutputParser\n",
    "from langchain_core.prompts import ChatPromptTemplate, MessagesPlaceholder, PromptTemplate\n",
    "from langchain.memory import ChatMessageHistory\n",
    "from operator import itemgetter\n",
    "\n",
    "from dotenv import load_dotenv\n",
    "import os\n",
    "\n",
    "# Load environmental variables\n",
    "load_dotenv()"
   ]
  },
  {
   "cell_type": "code",
   "execution_count": 3,
   "id": "f415d5b2-8547-45c1-aa24-e92f17ec8fb9",
   "metadata": {},
   "outputs": [],
   "source": [
    "ollama = Ollama(\n",
    "        base_url=\"http://10.30.16.100:11434\",\n",
    "        model=\"llama2\")"
   ]
  },
  {
   "cell_type": "markdown",
   "id": "10189565-6e2e-4170-b173-2996974dd9da",
   "metadata": {},
   "source": [
    "### Scenarios and their templates"
   ]
  },
  {
   "cell_type": "code",
   "execution_count": 4,
   "id": "2b7d3920-aefd-4472-a70a-7094e48bf82e",
   "metadata": {},
   "outputs": [],
   "source": [
    "scenario_template = ChatPromptTemplate.from_template(\"\"\"\n",
    "Situation: {situation}\n",
    "Urgency: {urgency}\n",
    "Current Time: {current_time}\n",
    "Alternative Routes: {alternative_routes}\n",
    "Support: {support_contact}\n",
    "Safety Precautions: {safety_precautions}\n",
    "Compensation: {compensation}\n",
    "\n",
    "Response:\n",
    "\"\"\")\n",
    "\n",
    "def generate_communication(scenario_details):\n",
    "    response = lang_chain.run(scenario_template, scenario_details)\n",
    "    return response\n",
    "\n",
    "# Example usage\n",
    "scenario_details = {\n",
    "    'situation': 'A tree has fallen on the tracks between 30th Street and Suburban Station.',\n",
    "    'urgency': 'High',\n",
    "    'current_time': '3:45 PM',\n",
    "    'alternative_routes': 'Use Route 21 Bus instead',\n",
    "    'support_contact': 'Contact Transit Support at 123-456-7890',\n",
    "    'safety_precautions': 'Avoid the area near the incident. Follow police directions.',\n",
    "    'compensation': 'Affected tickets will be refunded.'\n",
    "}\n",
    "\n"
   ]
  },
  {
   "cell_type": "markdown",
   "id": "238e381a-452e-4ef7-8527-7995dcf466cc",
   "metadata": {},
   "source": [
    "### Prompt Templates"
   ]
  },
  {
   "cell_type": "code",
   "execution_count": 16,
   "id": "38a3b13f-9fb0-48a6-a1fa-77fa8233f8f2",
   "metadata": {},
   "outputs": [],
   "source": [
    "# Define the prompt templates\n",
    "web_prompt = ChatPromptTemplate.from_template(\"\"\"\n",
    "  Generate a website statement for the following transportation incident\n",
    "\n",
    "Situation: {situation}\n",
    "Urgency: {urgency}\n",
    "Current Time: {current_time}\n",
    "Alternative Routes: {alternative_routes}\n",
    "Support: {support_contact}\n",
    "Safety Precautions: {safety_precautions}\n",
    "Compensation: {compensation}\n",
    "\n",
    "Response:\n",
    "\"\"\"\n",
    ")\n",
    "\n",
    "tweet_prompt = ChatPromptTemplate.from_template(\"\"\"\n",
    "  Generate a tweet for the following transportation incident:\n",
    "\n",
    "Situation: {situation}\n",
    "Urgency: {urgency}\n",
    "Current Time: {current_time}\n",
    "Alternative Routes: {alternative_routes}\n",
    "Support: {support_contact}\n",
    "Safety Precautions: {safety_precautions}\n",
    "Compensation: {compensation}\n",
    "\n",
    "Response:\n",
    "\"\"\"\n",
    ")\n",
    "\n",
    "blast_prompt = ChatPromptTemplate.from_template(\"\"\"\n",
    "  Generate a blast message for the following transportation incident:\n",
    "\n",
    "Situation: {situation}\n",
    "Urgency: {urgency}\n",
    "Current Time: {current_time}\n",
    "Alternative Routes: {alternative_routes}\n",
    "Support: {support_contact}\n",
    "Safety Precautions: {safety_precautions}\n",
    "Compensation: {compensation}\n",
    "\n",
    "Response:\n",
    "\"\"\"\n",
    ")\n"
   ]
  },
  {
   "cell_type": "markdown",
   "id": "8d34a17b-ca53-4759-990a-879ce467264e",
   "metadata": {},
   "source": [
    "### Website Statement"
   ]
  },
  {
   "cell_type": "code",
   "execution_count": 17,
   "id": "5dbb174b-d432-49bf-bf13-15cfdc1d4f32",
   "metadata": {},
   "outputs": [
    {
     "data": {
      "text/plain": [
       "ChatPromptValue(messages=[HumanMessage(content='\\n  Generate a website statement for the following transportation incident:\\n\\nSituation: A tree has fallen on the tracks between 30th Street and Suburban Station.\\nUrgency: High\\nCurrent Time: 3:45 PM\\nAlternative Routes: Use Route 21 Bus instead\\nSupport: Contact Transit Support at 123-456-7890\\nSafety Precautions: Avoid the area near the incident. Follow police directions.\\nCompensation: Affected tickets will be refunded.\\n\\nResponse:\\n')])"
      ]
     },
     "execution_count": 17,
     "metadata": {},
     "output_type": "execute_result"
    }
   ],
   "source": [
    "web_prompt.invoke(scenario_details)"
   ]
  },
  {
   "cell_type": "code",
   "execution_count": 18,
   "id": "2bc4c4d4-c770-40d4-aa19-a2417b6a1b94",
   "metadata": {},
   "outputs": [],
   "source": [
    "scenario_chain3 = (web_prompt|ollama)"
   ]
  },
  {
   "cell_type": "code",
   "execution_count": 19,
   "id": "897dc83a-bcfb-4f7f-9e68-0366a89996b4",
   "metadata": {},
   "outputs": [
    {
     "data": {
      "text/plain": [
       "'\"URGENT - Tree Down on Tracks Between 30th Street and Suburban Station, Use Route 21 Bus Instead\\n\\nAttention passengers, due to a tree falling on the tracks between 30th Street and Suburban Station, the train service is temporarily suspended. We apologize for any inconvenience this may cause.\\n\\nTo ensure your safety, we recommend using alternative transportation, such as the Route 21 Bus. Please follow police directions when traveling through the area.\\n\\nIf you have already purchased a ticket for the affected route, please contact Transit Support at 123-456-7890 to request a refund.\\n\\nRemember, safety is our top priority. Avoid the area near the incident and follow police directions when traveling through the area.\\n\\nThank you for your cooperation.\"'"
      ]
     },
     "execution_count": 19,
     "metadata": {},
     "output_type": "execute_result"
    }
   ],
   "source": [
    "scenario_chain3.invoke(scenario_details)"
   ]
  },
  {
   "cell_type": "markdown",
   "id": "202c71f0-5257-4cda-adb6-47eb789caae4",
   "metadata": {},
   "source": [
    "The website statement seemed less comprehensive than we wanted it to be and was not in the correct format. Therefore, we created a new version and included an example website statement in the prompt:"
   ]
  },
  {
   "cell_type": "code",
   "execution_count": 21,
   "id": "30cf5b9c-e6bb-4ae6-be7d-1967132876ee",
   "metadata": {},
   "outputs": [],
   "source": [
    "# Define the prompt templates\n",
    "web_prompt2 = ChatPromptTemplate.from_template(\"\"\"\n",
    "  Generate a website statement for the following transportation incident. Use this as an example: Dear valued Amtrak passengers,\n",
    "\n",
    "We regret to inform you that due to a tragic incident at the Trenton Station, the Amtrak service from Philadelphia to New York Penn Station has been temporarily suspended as of 4:06 pm today. We understand the urgency and inconvenience this may cause our passengers, and we are working diligently to provide alternative travel options.\n",
    "\n",
    "For those who need to reach New York Penn Station, we recommend using the NJ Transit Northeast Corridor Line, specifically train NEC 3896, which is currently operating on schedule. We apologize for any inconvenience this may cause and appreciate your understanding during this difficult time.\n",
    "\n",
    "If you require further assistance or have any questions, please don't hesitate to contact our customer support team at 222-333-4444 or use our chat bot for immediate help. We are here to support you in any way we can.\n",
    "\n",
    "As a gesture of our appreciation for your patience and understanding, all tickets for the affected Amtrak service will be fully refunded. We value your loyalty and are committed to ensuring that you reach your destination safely and comfortably.\n",
    "\n",
    "Thank you for your cooperation during this challenging situation. Our thoughts are with those affected by this unfortunate event.\n",
    "\n",
    "Sincerely,\n",
    "The Amtrak Team\n",
    "\n",
    "\n",
    "Situation: {situation}\n",
    "Urgency: {urgency}\n",
    "Current Time: {current_time}\n",
    "Alternative Routes: {alternative_routes}\n",
    "Support: {support_contact}\n",
    "Safety Precautions: {safety_precautions}\n",
    "Compensation: {compensation}\n",
    "\n",
    "Response:\n",
    "\"\"\"\n",
    ")"
   ]
  },
  {
   "cell_type": "code",
   "execution_count": 22,
   "id": "c4be3663-4cd6-4108-b24b-fee10013211a",
   "metadata": {},
   "outputs": [
    {
     "data": {
      "text/plain": [
       "ChatPromptValue(messages=[HumanMessage(content=\"\\n  Generate a website statement for the following transportation incident. Use this as an example: Dear valued Amtrak passengers,\\n\\nWe regret to inform you that due to a tragic incident at the Trenton Station, the Amtrak service from Philadelphia to New York Penn Station has been temporarily suspended as of 4:06 pm today. We understand the urgency and inconvenience this may cause our passengers, and we are working diligently to provide alternative travel options.\\n\\nFor those who need to reach New York Penn Station, we recommend using the NJ Transit Northeast Corridor Line, specifically train NEC 3896, which is currently operating on schedule. We apologize for any inconvenience this may cause and appreciate your understanding during this difficult time.\\n\\nIf you require further assistance or have any questions, please don't hesitate to contact our customer support team at 222-333-4444 or use our chat bot for immediate help. We are here to support you in any way we can.\\n\\nAs a gesture of our appreciation for your patience and understanding, all tickets for the affected Amtrak service will be fully refunded. We value your loyalty and are committed to ensuring that you reach your destination safely and comfortably.\\n\\nThank you for your cooperation during this challenging situation. Our thoughts are with those affected by this unfortunate event.\\n\\nSincerely,\\nThe Amtrak Team\\n\\n\\nSituation: A tree has fallen on the tracks between 30th Street and Suburban Station.\\nUrgency: High\\nCurrent Time: 3:45 PM\\nAlternative Routes: Use Route 21 Bus instead\\nSupport: Contact Transit Support at 123-456-7890\\nSafety Precautions: Avoid the area near the incident. Follow police directions.\\nCompensation: Affected tickets will be refunded.\\n\\nResponse:\\n\")])"
      ]
     },
     "execution_count": 22,
     "metadata": {},
     "output_type": "execute_result"
    }
   ],
   "source": [
    "web_prompt2.invoke(scenario_details)"
   ]
  },
  {
   "cell_type": "code",
   "execution_count": 24,
   "id": "040f1f75-7ac8-48fe-9551-7f68d2429246",
   "metadata": {},
   "outputs": [],
   "source": [
    "scenario_chain4 = (web_prompt2|ollama)"
   ]
  },
  {
   "cell_type": "code",
   "execution_count": 25,
   "id": "66e1bf05-c6d8-446d-a1de-c13d4acbbe6f",
   "metadata": {},
   "outputs": [
    {
     "data": {
      "text/plain": [
       "\"Dear valued passengers,\\n\\nWe regret to inform you that due to a tree falling on the tracks between 30th Street and Suburban Station, the Amtrak service has been temporarily suspended as of 3:45 PM today. We understand the urgency and inconvenience this may cause, and we are working diligently to provide alternative travel options.\\n\\nFor those who need to reach New York Penn Station, we recommend using the Route 21 Bus instead. Please follow police directions when navigating around the area near the incident.\\n\\nWe apologize for any inconvenience this may cause and appreciate your understanding during this difficult time. If you require further assistance or have any questions, please don't hesitate to contact our customer support team at 123-456-7890 or use our chat bot for immediate help.\\n\\nAs a gesture of our appreciation for your patience and understanding, all tickets for the affected Amtrak service will be fully refunded. We value your loyalty and are committed to ensuring that you reach your destination safely and comfortably.\\n\\nThank you for your cooperation during this challenging situation. Our thoughts are with those affected by this unfortunate event.\\n\\nSincerely,\\nThe Amtrak Team\""
      ]
     },
     "execution_count": 25,
     "metadata": {},
     "output_type": "execute_result"
    }
   ],
   "source": [
    "scenario_chain4.invoke(scenario_details)"
   ]
  },
  {
   "cell_type": "markdown",
   "id": "1244c578-98c7-42a9-8313-f4ed8646c977",
   "metadata": {},
   "source": [
    "### Tweet"
   ]
  },
  {
   "cell_type": "code",
   "execution_count": 9,
   "id": "22ccde7e-815a-47e2-bbdf-2b141ceb1da1",
   "metadata": {},
   "outputs": [
    {
     "data": {
      "text/plain": [
       "ChatPromptValue(messages=[HumanMessage(content='\\n  Generate a tweet for the following transportation incident:\\n\\nSituation: A tree has fallen on the tracks between 30th Street and Suburban Station.\\nUrgency: High\\nCurrent Time: 3:45 PM\\nAlternative Routes: Use Route 21 Bus instead\\nSupport: Contact Transit Support at 123-456-7890\\nSafety Precautions: Avoid the area near the incident. Follow police directions.\\nCompensation: Affected tickets will be refunded.\\n\\nResponse:\\n')])"
      ]
     },
     "execution_count": 9,
     "metadata": {},
     "output_type": "execute_result"
    }
   ],
   "source": [
    "tweet_prompt.invoke(scenario_details)"
   ]
  },
  {
   "cell_type": "code",
   "execution_count": 12,
   "id": "5d68c866-b2d4-43e7-80c4-7e2b92434154",
   "metadata": {},
   "outputs": [],
   "source": [
    "scenario_chain = (tweet_prompt|ollama)"
   ]
  },
  {
   "cell_type": "code",
   "execution_count": 13,
   "id": "00132d55-9748-4119-baa2-c338ad521429",
   "metadata": {},
   "outputs": [
    {
     "data": {
      "text/plain": [
       "'\"BREAKING: Tree falls on tracks between 30th St and Suburban Station! 🌳⛽️ High urgency, current time 3:45 PM. Use Route 21 Bus instead. Contact Transit Support at 123-456-7890 for help. Avoid the area near the incident and follow police directions for safety. Refunds available for affected tickets. #PhiladelphiaTransitIncident\"'"
      ]
     },
     "execution_count": 13,
     "metadata": {},
     "output_type": "execute_result"
    }
   ],
   "source": [
    "scenario_chain.invoke(scenario_details)"
   ]
  },
  {
   "cell_type": "markdown",
   "id": "1dcdf543-f268-4dfd-a0d0-c04e88adb165",
   "metadata": {},
   "source": [
    "Ollama's response seemed too informal and would be inappropriate for urgent and life threatening situations. Therefore, we prompted it to be more professional and for it to remove things such as emojis and hashtags."
   ]
  },
  {
   "cell_type": "code",
   "execution_count": 52,
   "id": "909c575c-f373-442a-b6ab-cd868e1a1843",
   "metadata": {},
   "outputs": [],
   "source": [
    "tweet_prompt2 = ChatPromptTemplate.from_template(\"\"\"\n",
    "  Generate a tweet that does not use '#' for the following transportation incident: Amtrak Alert: Service to NY Penn from Philadelphia suspended due to an incident at Trenton Station at 4:06 PM. Take NJ Transit NEC 3896 as an alternative. Call 222-333-4444 or use our chat bot for support. All tickets will be refunded. We apologize for any inconvenience caused. \n",
    "\n",
    "Situation: {situation}\n",
    "Urgency: {urgency}\n",
    "Current Time: {current_time}\n",
    "Alternative Routes: {alternative_routes}\n",
    "Support: {support_contact}\n",
    "Safety Precautions: {safety_precautions}\n",
    "Compensation: {compensation}\n",
    "\n",
    "Response:\n",
    "\"\"\"\n",
    ")"
   ]
  },
  {
   "cell_type": "code",
   "execution_count": 53,
   "id": "eca970b9-4538-44f6-9144-aeae8ce4de6b",
   "metadata": {},
   "outputs": [
    {
     "data": {
      "text/plain": [
       "ChatPromptValue(messages=[HumanMessage(content=\"\\n  Generate a tweet that does not use '#' for the following transportation incident: Amtrak Alert: Service to NY Penn from Philadelphia suspended due to an incident at Trenton Station at 4:06 PM. Take NJ Transit NEC 3896 as an alternative. Call 222-333-4444 or use our chat bot for support. All tickets will be refunded. We apologize for any inconvenience caused. \\n\\nSituation: A tree has fallen on the tracks between 30th Street and Suburban Station.\\nUrgency: High\\nCurrent Time: 3:45 PM\\nAlternative Routes: Use Route 21 Bus instead\\nSupport: Contact Transit Support at 123-456-7890\\nSafety Precautions: Avoid the area near the incident. Follow police directions.\\nCompensation: Affected tickets will be refunded.\\n\\nResponse:\\n\")])"
      ]
     },
     "execution_count": 53,
     "metadata": {},
     "output_type": "execute_result"
    }
   ],
   "source": [
    "tweet_prompt2.invoke(scenario_details)"
   ]
  },
  {
   "cell_type": "code",
   "execution_count": 54,
   "id": "483693e0-d695-4567-be3a-8551f2202aeb",
   "metadata": {},
   "outputs": [],
   "source": [
    "scenario_chain5 = (tweet_prompt2|ollama)"
   ]
  },
  {
   "cell_type": "code",
   "execution_count": 55,
   "id": "b88d5795-9f9b-4282-ba3f-aebf00226801",
   "metadata": {},
   "outputs": [
    {
     "data": {
      "text/plain": [
       "'\"BREAKING: Amtrak service between Philly and NYC suspended due to tree on tracks at Trenton Station. Take NJ Transit NEC 3896 as an alternative. Call 222-333-4444 or use chat bot for support. All tickets will be refunded. Stay safe and follow police directions. #AmtrakIncident #TrentonStation #TreeOnTracks\"'"
      ]
     },
     "execution_count": 55,
     "metadata": {},
     "output_type": "execute_result"
    }
   ],
   "source": [
    "scenario_chain5.invoke(scenario_details)"
   ]
  },
  {
   "cell_type": "markdown",
   "id": "118b44b8-95b3-4bf4-b584-4d773050f332",
   "metadata": {},
   "source": [
    "### Blast"
   ]
  },
  {
   "cell_type": "code",
   "execution_count": 14,
   "id": "4ec49f1d-e85d-4dd4-9a7b-c952e6c98e56",
   "metadata": {},
   "outputs": [],
   "source": [
    "scenario_chain2 = (blast_prompt|ollama)"
   ]
  },
  {
   "cell_type": "code",
   "execution_count": 15,
   "id": "25df3df0-3cf7-47df-afc1-f4a2ea87fc11",
   "metadata": {},
   "outputs": [
    {
     "data": {
      "text/plain": [
       "'BLAST MESSAGE:\\n\\nURGENT - TREE FALLS ON TRACKS BETWEEN 30TH STREET AND SUBURBAN STATION\\n\\nCURRENT TIME: 3:45 PM\\n\\nDUE TO A TREE FALLING ON THE TRACKS BETWEEN 30TH STREET AND SUBURBAN STATION, THERE IS A DISRUPTION IN SERVICE. PLEASE USE ALTERNATIVE ROUTES UNTIL FURTHER NOTICE.\\n\\nTHE FOLLOWING ROUTE IS AVAILABLE:\\n\\nUSE ROUTE 21 BUS INSTEAD OF TRAIN SERVICE.\\n\\nPLEASE CONTACT TRANSIT SUPPORT AT 123-456-7890 FOR MORE INFORMATION OR TO REQUEST ASSISTANCE.\\n\\nSAFETY PRECAUTIONS: PLEASE AVOID THE AREA NEAR THE INCIDENT AND FOLLOW POLICE DIRECTIONS.\\n\\nCOMPENSATION: AFFECTED TICKETS WILL BE REFUNDED.\\n\\nTHANK YOU FOR YOUR UNDERSTANDING AND COOPERATION.'"
      ]
     },
     "execution_count": 15,
     "metadata": {},
     "output_type": "execute_result"
    }
   ],
   "source": [
    "scenario_chain2.invoke(scenario_details)"
   ]
  }
 ],
 "metadata": {
  "citation-manager": {
   "items": {}
  },
  "kernelspec": {
   "display_name": "Python 3.11 (COMM4190)",
   "language": "python",
   "name": "comm4190"
  },
  "language_info": {
   "codemirror_mode": {
    "name": "ipython",
    "version": 3
   },
   "file_extension": ".py",
   "mimetype": "text/x-python",
   "name": "python",
   "nbconvert_exporter": "python",
   "pygments_lexer": "ipython3",
   "version": "3.11.7"
  }
 },
 "nbformat": 4,
 "nbformat_minor": 5
}
