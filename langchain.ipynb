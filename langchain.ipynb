{
 "cells": [
  {
   "cell_type": "code",
   "execution_count": 15,
   "id": "64137bce-274f-4687-b23b-89fb5c5005f7",
   "metadata": {},
   "outputs": [
    {
     "data": {
      "text/plain": [
       "True"
      ]
     },
     "execution_count": 15,
     "metadata": {},
     "output_type": "execute_result"
    }
   ],
   "source": [
    "from langchain_community.llms import Ollama\n",
    "from langchain_openai import ChatOpenAI\n",
    "from langchain_core.output_parsers import StrOutputParser\n",
    "from langchain_core.prompts import ChatPromptTemplate, MessagesPlaceholder, PromptTemplate\n",
    "from langchain.memory import ChatMessageHistory\n",
    "from operator import itemgetter\n",
    "\n",
    "from dotenv import load_dotenv\n",
    "import os\n",
    "\n",
    "# Load environmental variables\n",
    "load_dotenv()"
   ]
  },
  {
   "cell_type": "code",
   "execution_count": 16,
   "id": "f415d5b2-8547-45c1-aa24-e92f17ec8fb9",
   "metadata": {},
   "outputs": [],
   "source": [
    "ollama = Ollama(\n",
    "        base_url=\"http://10.30.16.100:11434\",\n",
    "        model=\"llama2\")"
   ]
  },
  {
   "cell_type": "code",
   "execution_count": 19,
   "id": "2b7d3920-aefd-4472-a70a-7094e48bf82e",
   "metadata": {},
   "outputs": [],
   "source": [
    "\n",
    "\n",
    "# Initialize LangChain with a suitable LLM\n",
    "\n",
    "\n",
    "\n",
    "# Define scenarios and their templates\n",
    "scenario_template = ChatPromptTemplate.from_template(\"\"\"\n",
    "Situation: {situation}\n",
    "Urgency: {urgency}\n",
    "Current Time: {current_time}\n",
    "Alternative Routes: {alternative_routes}\n",
    "Support: {support_contact}\n",
    "Safety Precautions: {safety_precautions}\n",
    "Compensation: {compensation}\n",
    "\n",
    "Response:\n",
    "\"\"\")\n",
    "\n",
    "# Define a function that generates the communication based on input scenario\n",
    "def generate_communication(scenario_details):\n",
    "    response = lang_chain.run(scenario_template, scenario_details)\n",
    "    return response\n",
    "\n",
    "# Example usage\n",
    "scenario_details = {\n",
    "    'situation': 'A tree has fallen on the tracks between 30th Street and Suburban Station.',\n",
    "    'urgency': 'High',\n",
    "    'current_time': '3:45 PM',\n",
    "    'alternative_routes': 'Use Route 21 Bus instead',\n",
    "    'support_contact': 'Contact Transit Support at 123-456-7890',\n",
    "    'safety_precautions': 'Avoid the area near the incident. Follow police directions.',\n",
    "    'compensation': 'Affected tickets will be refunded.'\n",
    "}\n",
    "\n"
   ]
  },
  {
   "cell_type": "code",
   "execution_count": 33,
   "id": "38a3b13f-9fb0-48a6-a1fa-77fa8233f8f2",
   "metadata": {},
   "outputs": [],
   "source": [
    "# Define the prompt templates\n",
    "website_statement_prompt = ChatPromptTemplate.from_template(\n",
    "    \"\"\"\n",
    "    Generate a website statement for the following transportation incident:\n",
    "    \n",
    "    Situation: {situation}\n",
    "    Urgency: {urgent}\n",
    "    Current Time: {current_time}\n",
    "    Location: {location}\n",
    "    Alternative Routes: {alternative_routes}\n",
    "    Support: {support}\n",
    "    Safety Precautions: {safety_precautions}\n",
    "    Compensation: {compensation}\n",
    "    \n",
    "    Website Statement:\n",
    "    \"\"\"\n",
    ")\n",
    "\n",
    "tweet_prompt = ChatPromptTemplate.from_template(\n",
    "    \"\"\"\n",
    "    Generate a tweet for the following transportation incident:\n",
    "    \n",
    "    Situation: {situation}\n",
    "    Urgency: {urgent}\n",
    "    Current Time: {current_time}\n",
    "    Location: {location}\n",
    "    Alternative Routes: {alternative_routes}\n",
    "    Support: {support}\n",
    "    Safety Precautions: {safety_precautions}\n",
    "    Compensation: {compensation}\n",
    "    \n",
    "    Tweet:\n",
    "    \"\"\"\n",
    ")\n",
    "\n",
    "blast_prompt = ChatPromptTemplate.from_template(\"\"\"\n",
    "  Generate a blast message for the following transportation incident:\n",
    "\n",
    "Situation: {situation}\n",
    "Urgency: {urgency}\n",
    "Current Time: {current_time}\n",
    "Alternative Routes: {alternative_routes}\n",
    "Support: {support_contact}\n",
    "Safety Precautions: {safety_precautions}\n",
    "Compensation: {compensation}\n",
    "\n",
    "Response:\n",
    "\"\"\"\n",
    ")\n"
   ]
  },
  {
   "cell_type": "code",
   "execution_count": 34,
   "id": "22ccde7e-815a-47e2-bbdf-2b141ceb1da1",
   "metadata": {},
   "outputs": [
    {
     "data": {
      "text/plain": [
       "ChatPromptValue(messages=[HumanMessage(content='\\n  Generate a blast message for the following transportation incident:\\n\\nSituation: A tree has fallen on the tracks between 30th Street and Suburban Station.\\nUrgency: High\\nCurrent Time: 3:45 PM\\nAlternative Routes: Use Route 21 Bus instead\\nSupport: Contact Transit Support at 123-456-7890\\nSafety Precautions: Avoid the area near the incident. Follow police directions.\\nCompensation: Affected tickets will be refunded.\\n\\nResponse:\\n')])"
      ]
     },
     "execution_count": 34,
     "metadata": {},
     "output_type": "execute_result"
    }
   ],
   "source": [
    "blast_prompt.invoke(scenario_details)"
   ]
  },
  {
   "cell_type": "code",
   "execution_count": 35,
   "id": "5d68c866-b2d4-43e7-80c4-7e2b92434154",
   "metadata": {},
   "outputs": [],
   "source": [
    "scenario_chain = (blast_prompt|ollama)"
   ]
  },
  {
   "cell_type": "code",
   "execution_count": 36,
   "id": "00132d55-9748-4119-baa2-c338ad521429",
   "metadata": {},
   "outputs": [
    {
     "data": {
      "text/plain": [
       "\"Blast Message:\\n\\nATTENTION RIDERS! 🚨❗️\\n\\nDue to a tree falling on the tracks between 30th Street and Suburban Station, service is currently suspended. 🌳🚂\\n\\nURGENT ALERT: Use Route 21 Bus instead for your journey. 🚌💨\\n\\nSAFETY FIRST! Avoid the area near the incident and follow police directions. 🚧👮\\u200d♀️\\n\\nDon't worry, we've got you covered! Compensation will be provided for affected tickets. 💰❕\\n\\nFor assistance, contact Transit Support at 123-456-7890. 📞👍\\n\\nStay safe and thank you for your patience! 🚨💕 #TransitAlert #ServiceDisruption #Route21Bus\""
      ]
     },
     "execution_count": 36,
     "metadata": {},
     "output_type": "execute_result"
    }
   ],
   "source": [
    "scenario_chain.invoke(scenario_details)"
   ]
  },
  {
   "cell_type": "code",
   "execution_count": 17,
   "id": "06606bfd-f41d-47d1-b6ec-702101f7d32e",
   "metadata": {},
   "outputs": [
    {
     "data": {
      "text/plain": [
       "'\\nI am LLaMA, an AI assistant developed by Meta AI that can understand and respond to human input in a conversational manner. I am trained on a massive dataset of text from the internet and can generate human-like responses to a wide range of topics and questions. I can be used to create chatbots, virtual assistants, and other applications that require natural language understanding and generation capabilities.'"
      ]
     },
     "execution_count": 17,
     "metadata": {},
     "output_type": "execute_result"
    }
   ],
   "source": [
    "ollama.invoke(\"Who are you?\")"
   ]
  },
  {
   "cell_type": "code",
   "execution_count": null,
   "id": "30cf5b9c-e6bb-4ae6-be7d-1967132876ee",
   "metadata": {},
   "outputs": [],
   "source": []
  }
 ],
 "metadata": {
  "citation-manager": {
   "items": {}
  },
  "kernelspec": {
   "display_name": "Python 3.11 (COMM4190)",
   "language": "python",
   "name": "comm4190"
  },
  "language_info": {
   "codemirror_mode": {
    "name": "ipython",
    "version": 3
   },
   "file_extension": ".py",
   "mimetype": "text/x-python",
   "name": "python",
   "nbconvert_exporter": "python",
   "pygments_lexer": "ipython3",
   "version": "3.11.7"
  }
 },
 "nbformat": 4,
 "nbformat_minor": 5
}
