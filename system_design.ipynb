{
 "cells": [
  {
   "cell_type": "markdown",
   "id": "2bb3a842-563d-46d9-9296-d407dcb4d323",
   "metadata": {},
   "source": [
    "## System Overview"
   ]
  },
  {
   "cell_type": "markdown",
   "id": "6985f945-45e3-4407-8e88-3556ac631de8",
   "metadata": {},
   "source": [
    "```mermaid\n",
    "flowchart LR\n",
    "    id1[()]\n",
    "\n",
    "\n",
    "```"
   ]
  },
  {
   "cell_type": "code",
   "execution_count": null,
   "id": "79eb4c18-048b-4dea-9a1f-35019223ac3c",
   "metadata": {},
   "outputs": [],
   "source": []
  }
 ],
 "metadata": {
  "citation-manager": {
   "items": {}
  },
  "kernelspec": {
   "display_name": "Python 3.11 (COMM4190)",
   "language": "python",
   "name": "comm4190"
  },
  "language_info": {
   "codemirror_mode": {
    "name": "ipython",
    "version": 3
   },
   "file_extension": ".py",
   "mimetype": "text/x-python",
   "name": "python",
   "nbconvert_exporter": "python",
   "pygments_lexer": "ipython3",
   "version": "3.11.7"
  }
 },
 "nbformat": 4,
 "nbformat_minor": 5
}
