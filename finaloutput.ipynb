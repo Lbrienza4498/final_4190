{
 "cells": [
  {
   "cell_type": "markdown",
   "id": "c217e465-2f02-436a-9258-f70215049bb9",
   "metadata": {},
   "source": [
    "# Part 1: Blast Messanger"
   ]
  },
  {
   "cell_type": "markdown",
   "id": "74ccc6b6-96b2-4843-83af-754a4a69a719",
   "metadata": {},
   "source": [
    "### Setup"
   ]
  },
  {
   "cell_type": "code",
   "execution_count": 2,
   "id": "a21a327a-c98e-4021-8609-f9a3b42ff59f",
   "metadata": {},
   "outputs": [
    {
     "data": {
      "text/plain": [
       "True"
      ]
     },
     "execution_count": 2,
     "metadata": {},
     "output_type": "execute_result"
    }
   ],
   "source": [
    "from langchain_community.llms import Ollama\n",
    "from langchain_openai import ChatOpenAI\n",
    "from langchain_core.output_parsers import StrOutputParser\n",
    "from langchain_core.prompts import ChatPromptTemplate, MessagesPlaceholder, PromptTemplate\n",
    "from langchain.memory import ChatMessageHistory\n",
    "from operator import itemgetter\n",
    "\n",
    "from dotenv import load_dotenv\n",
    "import os\n",
    "\n",
    "# Load environmental variables\n",
    "load_dotenv()"
   ]
  },
  {
   "cell_type": "code",
   "execution_count": 3,
   "id": "9e5567d5-5f0a-472b-afe9-46604f181dc3",
   "metadata": {},
   "outputs": [],
   "source": [
    "ollama = Ollama(\n",
    "        base_url=\"http://10.30.16.100:11434\",\n",
    "        model=\"llama2\")"
   ]
  },
  {
   "cell_type": "markdown",
   "id": "0055efdc-20ce-4972-a5ee-5a3e2f5cbf56",
   "metadata": {},
   "source": [
    "To use, fill in the example scenario with details for the situation you want to cover."
   ]
  },
  {
   "cell_type": "code",
   "execution_count": 4,
   "id": "6ef5bce9-53d4-4d56-a609-d087269ba152",
   "metadata": {},
   "outputs": [],
   "source": [
    "scenario_template = ChatPromptTemplate.from_template(\"\"\"\n",
    "Situation: {situation}\n",
    "Urgency: {urgency}\n",
    "Current Time: {current_time}\n",
    "Alternative Routes: {alternative_routes}\n",
    "Support: {support_contact}\n",
    "Safety Precautions: {safety_precautions}\n",
    "Compensation: {compensation}\n",
    "\n",
    "Response:\n",
    "\"\"\")\n",
    "\n",
    "def generate_communication(scenario_details):\n",
    "    response = lang_chain.run(scenario_template, scenario_details)\n",
    "    return response\n",
    "\n",
    "# Insert your scenario here\n",
    "scenario_details = {\n",
    "    'situation': 'A tree has fallen on the tracks between 30th Street and Suburban Station.',\n",
    "    'urgency': 'High',\n",
    "    'current_time': '3:45 PM',\n",
    "    'alternative_routes': 'Use Route 21 Bus instead',\n",
    "    'support_contact': 'Contact Transit Support at 123-456-7890',\n",
    "    'safety_precautions': 'Avoid the area near the incident. Follow police directions.',\n",
    "    'compensation': 'Affected tickets will be refunded.'\n",
    "}\n",
    "\n"
   ]
  },
  {
   "cell_type": "markdown",
   "id": "b94de7f8-4404-4168-9fa2-561d6958e52a",
   "metadata": {},
   "source": [
    "### Define the prompt templates "
   ]
  },
  {
   "cell_type": "code",
   "execution_count": 11,
   "id": "56f143ea-3a9f-4ea7-a0d7-9c10b1b35a80",
   "metadata": {},
   "outputs": [],
   "source": [
    "# Define the prompt templates\n",
    "web_prompt = ChatPromptTemplate.from_template(\"\"\"\n",
    "  Generate a website statement for the following transportation incident. Use this as an example: Dear valued Amtrak passengers,\n",
    "\n",
    "We regret to inform you that due to a tragic incident at the Trenton Station, the Amtrak service from Philadelphia to New York Penn Station has been temporarily suspended as of 4:06 pm today. We understand the urgency and inconvenience this may cause our passengers, and we are working diligently to provide alternative travel options.\n",
    "\n",
    "For those who need to reach New York Penn Station, we recommend using the NJ Transit Northeast Corridor Line, specifically train NEC 3896, which is currently operating on schedule. We apologize for any inconvenience this may cause and appreciate your understanding during this difficult time.\n",
    "\n",
    "If you require further assistance or have any questions, please don't hesitate to contact our customer support team at 222-333-4444 or use our chat bot for immediate help. We are here to support you in any way we can.\n",
    "\n",
    "As a gesture of our appreciation for your patience and understanding, all tickets for the affected Amtrak service will be fully refunded. We value your loyalty and are committed to ensuring that you reach your destination safely and comfortably.\n",
    "\n",
    "Thank you for your cooperation during this challenging situation. Our thoughts are with those affected by this unfortunate event.\n",
    "\n",
    "Sincerely,\n",
    "The Amtrak Team\n",
    "\n",
    "\n",
    "Situation: {situation}\n",
    "Urgency: {urgency}\n",
    "Current Time: {current_time}\n",
    "Alternative Routes: {alternative_routes}\n",
    "Support: {support_contact}\n",
    "Safety Precautions: {safety_precautions}\n",
    "Compensation: {compensation}\n",
    "\n",
    "Response:\n",
    "\"\"\"\n",
    ")\n",
    "\n",
    "tweet_prompt = ChatPromptTemplate.from_template(\"\"\"\n",
    "  Generate a tweet that does not use '#' for the following transportation incident: Amtrak Alert: Service to NY Penn from Philadelphia suspended due to an incident at Trenton Station at 4:06 PM. Take NJ Transit NEC 3896 as an alternative. Call 222-333-4444 or use our chat bot for support. All tickets will be refunded. We apologize for any inconvenience caused. \n",
    "\n",
    "Situation: {situation}\n",
    "Urgency: {urgency}\n",
    "Current Time: {current_time}\n",
    "Alternative Routes: {alternative_routes}\n",
    "Support: {support_contact}\n",
    "Safety Precautions: {safety_precautions}\n",
    "Compensation: {compensation}\n",
    "\n",
    "Response:\n",
    "\"\"\"\n",
    ")\n",
    "\n",
    "blast_prompt = ChatPromptTemplate.from_template(\"\"\"\n",
    "  Generate a blast message for the following transportation incident:\n",
    "\n",
    "Situation: {situation}\n",
    "Urgency: {urgency}\n",
    "Current Time: {current_time}\n",
    "Alternative Routes: {alternative_routes}\n",
    "Support: {support_contact}\n",
    "Safety Precautions: {safety_precautions}\n",
    "Compensation: {compensation}\n",
    "\n",
    "Response:\n",
    "\"\"\"\n",
    ")\n"
   ]
  },
  {
   "cell_type": "markdown",
   "id": "78fab635-68b3-41c3-8de3-ba38cf34fd4f",
   "metadata": {},
   "source": [
    "### Usage 1: Creating a web statement"
   ]
  },
  {
   "cell_type": "code",
   "execution_count": 10,
   "id": "71aacc62-f59d-4362-8980-988d69d66fa5",
   "metadata": {},
   "outputs": [
    {
     "data": {
      "text/plain": [
       "'Dear valued passengers,\\n\\nWe are writing to inform you of a transportation incident that may affect your travel plans. Due to a tree falling on the tracks between 30th Street and Suburban Station, the Amtrak service from Philadelphia to New York Penn Station has been temporarily suspended as of 3:45 PM today.\\n\\nWe understand the urgency and inconvenience this may cause, and we are working diligently to provide alternative travel options. As a result, we recommend using the Route 21 Bus instead of the Amtrak service. Please note that this route may take longer than usual, and we apologize for any inconvenience this may cause.\\n\\nFor those who need assistance or have questions, please contact our Transit Support team at 123-456-7890. We are here to support you in any way we can.\\n\\nIn addition, as a gesture of goodwill, all tickets for the affected Amtrak service will be fully refunded. We value your loyalty and appreciate your patience and understanding during this challenging situation.\\n\\nPlease follow police directions when approaching the area near the incident. Your safety is our top priority, and we will do everything in our power to ensure that you reach your destination safely and comfortably.\\n\\nThank you for your cooperation during this difficult time. Our thoughts are with those affected by this unfortunate event.\\n\\nSincerely,\\nThe Amtrak Team'"
      ]
     },
     "execution_count": 10,
     "metadata": {},
     "output_type": "execute_result"
    }
   ],
   "source": [
    "scenario_chain3 = (web_prompt|ollama)\n",
    "scenario_chain3.invoke(scenario_details)"
   ]
  },
  {
   "cell_type": "markdown",
   "id": "135997f7-f3ba-4a3e-ab72-9d837220ea93",
   "metadata": {},
   "source": [
    "### Usage 2: Creating a tweet"
   ]
  },
  {
   "cell_type": "code",
   "execution_count": 12,
   "id": "dd42c78e-4bab-41d1-ba34-19a26a419d2a",
   "metadata": {},
   "outputs": [
    {
     "data": {
      "text/plain": [
       "'\"BREAKING: Amtrak service between Philly and NYC suspended due to tree on tracks at Trenton Station. Use NJ Transit NEC 3896 as alternative. Call 222-333-4444 or chat with us for support. All tickets will be refunded. Avoid area near incident and follow police directions. #AmtrakAlert #NJTransit #PublicSafety\"'"
      ]
     },
     "execution_count": 12,
     "metadata": {},
     "output_type": "execute_result"
    }
   ],
   "source": [
    "scenario_chain = (tweet_prompt|ollama)\n",
    "scenario_chain.invoke(scenario_details)"
   ]
  },
  {
   "cell_type": "markdown",
   "id": "2cc9ae06-a063-4ae8-909a-b57a03476c8b",
   "metadata": {},
   "source": [
    "### Usage 3: Traditional blast message/text"
   ]
  },
  {
   "cell_type": "code",
   "execution_count": 13,
   "id": "1c193b20-2b2f-4449-b339-7e70ad876449",
   "metadata": {},
   "outputs": [
    {
     "data": {
      "text/plain": [
       "'BLAST MESSAGE - TREE ON TRACKS BETWEEN 30TH STREET AND SUBURBAN STATION\\n\\nURGENCY LEVEL: HIGH\\n\\n current time: 3:45 PM\\n\\nDUE TO A TREE FALLING ON THE TRACKS BETWEEN 30TH STREET AND SUBURBAN STATION, THERE IS A DELAY IN SERVICE. PLEASE USE ALTERNATIVE ROUTES SUCH AS THE ROUTE 21 BUS.\\n\\nFOR SUPPORT, CONTACT TRANSIT SUPPORT AT 123-456-7890.\\n\\nPLEASE FOLLOW POLICE DIRECTIONS FOR SAFETY PRECAUTIONS IN THE AREA NEAR THE INCIDENT.\\n\\nAFFECTED TICKETS WILL BE REFUNDED.\\n\\nTHANK YOU FOR YOUR UNDERSTANDING AND COOPERATION.'"
      ]
     },
     "execution_count": 13,
     "metadata": {},
     "output_type": "execute_result"
    }
   ],
   "source": [
    "scenario_chain2 = (blast_prompt|ollama)\n",
    "scenario_chain2.invoke(scenario_details)"
   ]
  },
  {
   "cell_type": "markdown",
   "id": "94c87a14-23f1-4fd2-ad2a-11ec93a9b4f0",
   "metadata": {},
   "source": [
    "# Part 2: ChatBot"
   ]
  },
  {
   "cell_type": "markdown",
   "id": "f78775fe-256e-4e7d-a811-4d00bf7e94bc",
   "metadata": {},
   "source": [
    "### Setup"
   ]
  },
  {
   "cell_type": "code",
   "execution_count": 16,
   "id": "a418674f-a3c6-409b-af16-fa7a5506891b",
   "metadata": {},
   "outputs": [],
   "source": [
    "import openai\n",
    "import requests\n",
    "import json\n",
    "from openai import OpenAI\n",
    "from dotenv import load_dotenv\n",
    "\n",
    "from langchain_community.document_loaders import DirectoryLoader\n",
    "from langchain_community.document_loaders.csv_loader import CSVLoader\n",
    "from langchain_text_splitters import RecursiveCharacterTextSplitter\n",
    "from langchain_community.vectorstores import Chroma\n",
    "from langchain_openai import OpenAIEmbeddings\n",
    "from langchain_community.embeddings import OllamaEmbeddings\n",
    "from langchain import hub\n",
    "from langchain_core.output_parsers import StrOutputParser\n",
    "from langchain_core.runnables import RunnablePassthrough\n",
    "from langchain_community.llms import Ollama\n",
    "\n",
    "from langchain_anthropic import ChatAnthropic\n",
    "\n",
    "import pandas as pd\n",
    "\n",
    "__import__('pysqlite3')\n",
    "import sys\n",
    "sys.modules['sqlite3'] = sys.modules.pop('pysqlite3')"
   ]
  },
  {
   "cell_type": "code",
   "execution_count": 17,
   "id": "100b5250-35e3-47a6-85b8-aba9a1eea9a2",
   "metadata": {},
   "outputs": [],
   "source": [
    "_ = load_dotenv()"
   ]
  },
  {
   "cell_type": "markdown",
   "id": "b110a4f7-3189-4fb3-bbb1-48693b2d579e",
   "metadata": {},
   "source": [
    "### Setting up the API Key"
   ]
  },
  {
   "cell_type": "code",
   "execution_count": 18,
   "id": "64f15878-cf07-42c0-84df-2e40b5543656",
   "metadata": {},
   "outputs": [],
   "source": [
    "client = OpenAI(\n",
    "    base_url = 'http://10.30.16.100:11434/v1',\n",
    "    api_key='ollama', # required, but unused\n",
    ")\n",
    "opus = ChatAnthropic(model='claude-3-opus-20240229')"
   ]
  },
  {
   "cell_type": "code",
   "execution_count": 24,
   "id": "b826369d-97b6-4f3c-81b2-148c4183dfc6",
   "metadata": {},
   "outputs": [],
   "source": [
    "loader = CSVLoader(file_path=\"situations.csv\")\n",
    "\n",
    "docs = loader.load()"
   ]
  },
  {
   "cell_type": "code",
   "execution_count": 25,
   "id": "c979541b-bd97-4725-9a27-ccbb65c88e62",
   "metadata": {},
   "outputs": [],
   "source": [
    "embeddings = OllamaEmbeddings(\n",
    "    base_url=\"http://10.30.16.100:11434\",\n",
    "    model=\"nomic-embed-text\")\n",
    "\n",
    "vectorstore = Chroma.from_documents(documents=docs, embedding=embeddings)"
   ]
  },
  {
   "cell_type": "code",
   "execution_count": 26,
   "id": "b5e9daca-335e-4eda-a046-686192ac034e",
   "metadata": {},
   "outputs": [],
   "source": [
    "retriever = vectorstore.as_retriever(search_type=\"similarity\", \n",
    "                                     search_kwargs={\"k\": 1})\n",
    "\n"
   ]
  },
  {
   "cell_type": "markdown",
   "id": "c6298b95-9ad6-4d8a-9bb3-b897142f6dc4",
   "metadata": {},
   "source": [
    "### Create our Own RAG Prompt for the Chatbot"
   ]
  },
  {
   "cell_type": "code",
   "execution_count": 56,
   "id": "392a6a21-6645-4f26-87db-186072789e50",
   "metadata": {},
   "outputs": [],
   "source": [
    "our_prompt3 = '''\n",
    "You are a public relations chatbot that specializes in helping riders find the specificities of their \n",
    "alternative route and solve their problem as well as calm their nerves. \n",
    "\n",
    "You have access to up to date information. Only use this information if it is time relevant (i.e. not in the future). Make your answer based on the current time right now. If the time is not provided, please ask the user what time it is. \n",
    "If you can't find relevant information to help the customer do not give a specific answer just try and\n",
    "reassure them that more information will be available soon. If they are distressed, addressing their feelings be a support system for them to feel better. Otherwise, focus on addressing their question.\n",
    "\n",
    "Use three sentences maximum and keep the answer concise.\\nQuestion: {question} \\nContext: {context} \\nAnswer:\"\n",
    "'''\n"
   ]
  },
  {
   "cell_type": "code",
   "execution_count": 57,
   "id": "6d9de9f6-7ab4-41fa-b6e2-042c5435a4e8",
   "metadata": {},
   "outputs": [],
   "source": [
    "prompt = hub.pull(\"rlm/rag-prompt\")\n",
    "prompt.messages[0].prompt.template = our_prompt3"
   ]
  },
  {
   "cell_type": "code",
   "execution_count": 58,
   "id": "76609362-8b7d-41d9-a205-4baeebcbcaa1",
   "metadata": {},
   "outputs": [],
   "source": [
    "\n",
    "\n",
    "def format_docs(docs):\n",
    "    return \"\\n\\n\".join(doc.page_content for doc in docs)\n",
    "\n",
    "rag_result = (retriever | format_docs)\n",
    "\n",
    "norag_chain = (\n",
    "    prompt\n",
    "    | opus\n",
    "    | StrOutputParser()\n",
    ")\n",
    "\n",
    "rag_chain = (\n",
    "    {\"context\": retriever | format_docs, \"question\": RunnablePassthrough()}\n",
    "    | prompt\n",
    "    | opus\n",
    "    | StrOutputParser()\n",
    ")"
   ]
  },
  {
   "cell_type": "markdown",
   "id": "f4279f81-3a62-47b8-a8c0-fd00810f16a9",
   "metadata": {},
   "source": [
    "There are three main uses for this chatbot. To use it, replace the queries with your own situation."
   ]
  },
  {
   "cell_type": "markdown",
   "id": "a9c1293c-f025-4e79-b7e9-076479ae7332",
   "metadata": {},
   "source": [
    "### 1. Providing updates on situations. \n"
   ]
  },
  {
   "cell_type": "code",
   "execution_count": 65,
   "id": "3e1435da-efc6-4d2c-83e7-8e4319e35405",
   "metadata": {},
   "outputs": [],
   "source": [
    "query = \"The time is 8:31am. Why is my SEPTA late?\""
   ]
  },
  {
   "cell_type": "code",
   "execution_count": 66,
   "id": "c343d922-8d39-40cd-bc0e-60822e6a1c6c",
   "metadata": {},
   "outputs": [
    {
     "data": {
      "text/plain": [
       "'I understand your frustration with the delay. Route 10 is currently suspended between 63rd-Malvern and 13th-Market due to an urgent situation. As an alternative, you can use SEPTA bus routes 7, 38, or 42, which provide service along parts of the Route 10 corridor.'"
      ]
     },
     "execution_count": 66,
     "metadata": {},
     "output_type": "execute_result"
    }
   ],
   "source": [
    "rag_chain.invoke({\"input\": query})"
   ]
  },
  {
   "cell_type": "markdown",
   "id": "b26894fa-2a81-4ecf-91e6-27f398027dce",
   "metadata": {},
   "source": [
    "### 2. Giving alternative routes/directions"
   ]
  },
  {
   "cell_type": "code",
   "execution_count": 61,
   "id": "4e2432c2-7435-4c86-b416-5f54aab93858",
   "metadata": {},
   "outputs": [],
   "source": [
    "query2 = \"The time is 2:41 pm. How can I get to Maryland?\""
   ]
  },
  {
   "cell_type": "code",
   "execution_count": 62,
   "id": "3e5a269a-d1ee-449a-9fde-a7c044fc1bf7",
   "metadata": {},
   "outputs": [
    {
     "data": {
      "text/plain": [
       "'I understand you want to get to Maryland, but Amtrak service at the New Carrollton Station is currently suspended due to safety concerns. Your safety is our top priority, so I recommend taking an alternative route, such as the MARC train from Washington Union Station to Baltimore Penn Station, then transferring to the SEPTA Regional Rail to continue to Philadelphia. Please check the MARC and SEPTA schedules for the most up-to-date information.'"
      ]
     },
     "execution_count": 62,
     "metadata": {},
     "output_type": "execute_result"
    }
   ],
   "source": [
    "rag_chain.invoke({\"input\": query2})"
   ]
  },
  {
   "cell_type": "markdown",
   "id": "6c8889b3-7ebc-4dbb-a65b-0c0738237c8f",
   "metadata": {},
   "source": [
    "### 3. Providing emotional support"
   ]
  },
  {
   "cell_type": "code",
   "execution_count": 63,
   "id": "8e8a7537-9c11-4919-b5b2-509f693c018f",
   "metadata": {},
   "outputs": [],
   "source": [
    "query3 = \"I'm so stressed out right now.\""
   ]
  },
  {
   "cell_type": "code",
   "execution_count": 64,
   "id": "aa3e53de-02fc-48c3-9865-4bb1c246ab78",
   "metadata": {},
   "outputs": [
    {
     "data": {
      "text/plain": [
       "\"I understand this delay is frustrating, but please know we're doing everything possible to resume normal service quickly. In the meantime, you can take the 4 or 5 line as an alternative, which runs parallel to the 6. I'm here to help if you need any other information.\""
      ]
     },
     "execution_count": 64,
     "metadata": {},
     "output_type": "execute_result"
    }
   ],
   "source": [
    "rag_chain.invoke({\"input\": query3})"
   ]
  },
  {
   "cell_type": "code",
   "execution_count": null,
   "id": "8ac59349-c41f-4e4c-b29f-471b50786025",
   "metadata": {},
   "outputs": [],
   "source": []
  }
 ],
 "metadata": {
  "citation-manager": {
   "items": {}
  },
  "kernelspec": {
   "display_name": "Python 3.11 (COMM4190)",
   "language": "python",
   "name": "comm4190"
  },
  "language_info": {
   "codemirror_mode": {
    "name": "ipython",
    "version": 3
   },
   "file_extension": ".py",
   "mimetype": "text/x-python",
   "name": "python",
   "nbconvert_exporter": "python",
   "pygments_lexer": "ipython3",
   "version": "3.11.7"
  }
 },
 "nbformat": 4,
 "nbformat_minor": 5
}
